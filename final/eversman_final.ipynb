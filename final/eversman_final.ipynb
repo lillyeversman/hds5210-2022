{
 "cells": [
  {
   "cell_type": "markdown",
   "metadata": {},
   "source": [
    "## Happiness, Mental Illness, and Drug Overdose Deaths Across the 50 States and DC"
   ]
  },
  {
   "cell_type": "markdown",
   "metadata": {},
   "source": [
    "## Purpose of this project: \n",
    "To compare happiness levels per State with Drug Overdose levels as well as instance of mental illness per state. Additionally, I will look at which states have the most readily available Naloxone. \n",
    "Naloxone is a medication approved by the Food and Drug Administration (FDA) designed to rapidly reverse opioid overdose. It is an opioid antagonist—meaning that it binds to opioid receptors and can reverse and block the effects of other opioids, such as heroin, morphine, and oxycodone.\n",
    "According to my research: 8 states currently allow individuals to get naloxone from a pharamcy without a prescription. I want to compare which states have high levels of overdose with those with less restriction on obtaining Naloxone. "
   ]
  },
  {
   "cell_type": "code",
   "execution_count": null,
   "metadata": {},
   "outputs": [],
   "source": [
    "#import packages needed for first data read\n",
    "import pandas as pd \n",
    "import numpy as np\n",
    "import matplotlib.pyplot as plt\n",
    "from unicodedata import normalize"
   ]
  },
  {
   "cell_type": "markdown",
   "metadata": {},
   "source": [
    "## 1. Happiness Rankings by State using 3 main indicators: \n",
    "   -Emotional and Physical Wellbeing, Work Environment, Community & Environment "
   ]
  },
  {
   "cell_type": "code",
   "execution_count": null,
   "metadata": {},
   "outputs": [],
   "source": [
    "#get the table from html website\n",
    "happiness_rank = pd.read_html('https://worldpopulationreview.com/state-rankings/happiest-states')[0]"
   ]
  },
  {
   "cell_type": "code",
   "execution_count": null,
   "metadata": {},
   "outputs": [],
   "source": [
    "#create function for making a ranking columns based on index after sorting\n",
    "def ranker(df): \n",
    "    return df.index + 1"
   ]
  },
  {
   "cell_type": "code",
   "execution_count": null,
   "metadata": {},
   "outputs": [],
   "source": [
    "#see if ranking column was added\n",
    "happiness_rank['Happy_Rank'] = ranker(happiness_rank)"
   ]
  },
  {
   "cell_type": "code",
   "execution_count": null,
   "metadata": {},
   "outputs": [],
   "source": [
    "#get top 10 happiest states via head\n",
    "happiness_rank.head(10)"
   ]
  },
  {
   "cell_type": "markdown",
   "metadata": {},
   "source": [
    "The 5 \"happiest\" states are: Hawaii, Utah, Minnesota, North Dakota, and California "
   ]
  },
  {
   "cell_type": "code",
   "execution_count": null,
   "metadata": {},
   "outputs": [],
   "source": [
    "#the 10 least happy states \n",
    "happiness_rank.tail(10)"
   ]
  },
  {
   "cell_type": "code",
   "execution_count": null,
   "metadata": {},
   "outputs": [],
   "source": [
    "#do a reverse rank to view states by least happy - this is for the purpose of averaging ranks later in the file \n",
    "reverse_happy = happiness_rank.sort_values(by='Happy_Rank',ascending=False).reset_index()\n",
    "#use ranker function to add a ranker of most unhappy states \n",
    "reverse_happy['least_happy'] = ranker(reverse_happy)\n",
    "reverse_happy"
   ]
  },
  {
   "cell_type": "code",
   "execution_count": null,
   "metadata": {},
   "outputs": [],
   "source": [
    "#get the least happy states \n",
    "reversed_happy = reverse_happy.head(10)\n",
    "reversed_happy"
   ]
  },
  {
   "cell_type": "markdown",
   "metadata": {},
   "source": [
    "The 5 least happy states are: Oklahoma, Alaska, Louisiana, Arkansas, and West Virginia "
   ]
  },
  {
   "cell_type": "markdown",
   "metadata": {},
   "source": [
    "## 2. Deaths by Drug Overdose among the states in the last year "
   ]
  },
  {
   "cell_type": "code",
   "execution_count": null,
   "metadata": {},
   "outputs": [],
   "source": [
    "#import overdose rate data from KFF website \n",
    "#renmane column Location to State for future consistency/merging \n",
    "death_rates = pd.read_csv(' Opioidsdeath.csv')\n",
    "death_rates.rename(columns={'Location':'State'}, inplace=True)"
   ]
  },
  {
   "cell_type": "code",
   "execution_count": null,
   "metadata": {},
   "outputs": [],
   "source": [
    "#note the rates are per 100,000 population \n",
    "opioids_sort= death_rates.sort_values(by=['Opioid Overdose Death Rate (Age-Adjusted)'],ascending=False).reset_index()\n",
    "opioids_sort['death_rank'] = ranker(opioids_sort)\n",
    "alldrug_sort = death_rates.sort_values(by=['All Drug Overdose Death Rate (Age-Adjusted)'],ascending=False)\n",
    "opioids_sort.columns"
   ]
  },
  {
   "cell_type": "code",
   "execution_count": null,
   "metadata": {},
   "outputs": [],
   "source": [
    "opioid_sum = opioids_sort.head(10)\n",
    "opioid_sum['death_rank'] = ranker(opioid_sum)\n",
    "opioid_sum"
   ]
  },
  {
   "cell_type": "code",
   "execution_count": null,
   "metadata": {},
   "outputs": [],
   "source": [
    "drug_sum = alldrug_sort.head(10)"
   ]
  },
  {
   "cell_type": "markdown",
   "metadata": {},
   "source": [
    "merge the two sorted groups of death rates together to see which of the ten states for highest opioid overdoses are also in the top ten highest for all drug overdoses "
   ]
  },
  {
   "cell_type": "code",
   "execution_count": null,
   "metadata": {},
   "outputs": [],
   "source": [
    "overdose_summary = pd.merge(opioid_sum, drug_sum, on = 'State', how = 'inner')"
   ]
  },
  {
   "cell_type": "code",
   "execution_count": null,
   "metadata": {},
   "outputs": [],
   "source": [
    "overdose_summary"
   ]
  },
  {
   "cell_type": "markdown",
   "metadata": {},
   "source": [
    "Observation: 7/10 states are in the top 10 for both opioid overdoses per 100,000 and all drug overdoses "
   ]
  },
  {
   "cell_type": "code",
   "execution_count": null,
   "metadata": {},
   "outputs": [],
   "source": [
    "#now lets see the 10 states with the lowest overdose death rate: \n",
    "least_opioids = death_rates.sort_values(by=['Opioid Overdose Death Rate (Age-Adjusted)'])\n",
    "least_opioids = least_opioids.head(10)"
   ]
  },
  {
   "cell_type": "code",
   "execution_count": null,
   "metadata": {},
   "outputs": [],
   "source": [
    "least_drugs = death_rates.sort_values(by=['All Drug Overdose Death Rate (Age-Adjusted)'])\n",
    "least_drugs = least_drugs.head(10)"
   ]
  },
  {
   "cell_type": "code",
   "execution_count": null,
   "metadata": {},
   "outputs": [],
   "source": [
    "least_overdoes_sum = pd.merge(least_drugs, least_opioids, on = 'State', how = 'inner')"
   ]
  },
  {
   "cell_type": "code",
   "execution_count": null,
   "metadata": {},
   "outputs": [],
   "source": [
    "least_overdoes_sum"
   ]
  },
  {
   "cell_type": "markdown",
   "metadata": {},
   "source": [
    "Observation: 5/10of the states with the least opioid deaths are shared among the least of the lowest amount of all drug overdoes\n",
    "For remainder of work in this project, we will be focusing on the opioid rates/ranking"
   ]
  },
  {
   "cell_type": "markdown",
   "metadata": {},
   "source": [
    "## 3.  Mental Illness % among the states in the last year "
   ]
  },
  {
   "cell_type": "code",
   "execution_count": null,
   "metadata": {},
   "outputs": [],
   "source": [
    "#import overdose death data: \n",
    "mental_illness= pd.read_csv('mental_illness.csv')\n",
    "mental_illness \n",
    "#renmane column Location to State for future consistency/merging \n",
    "mental_illness.rename(columns={'Location':'State'}, inplace=True)\n",
    "mental_illness\n",
    "#sort values and create ranked column based on serious mental illness \n",
    "mental_illness = mental_illness.sort_values(by = 'Adults Reporting Serious Mental Illness in the Past Year', ascending=False).reset_index()\n",
    "mental_illness['MH_Rank'] = ranker(mental_illness)"
   ]
  },
  {
   "cell_type": "code",
   "execution_count": null,
   "metadata": {},
   "outputs": [],
   "source": [
    "#see the ten states reporting the highest percentage of serious mental illness\n",
    "seriousMH= mental_illness.head(10)\n",
    "seriousMH.style.format({'Adults Reporting Any Mental Illness in the Past Year': \"{:.2%}\",'Adults Reporting Serious Mental Illness in the Past Year': \"{:.2%}\"})"
   ]
  },
  {
   "cell_type": "code",
   "execution_count": null,
   "metadata": {},
   "outputs": [],
   "source": [
    "#lets see the connection between serious mental illness and happiness, and also between serious mental illness % reported and overdose deaths \n",
    "\n",
    "MH_Happy = pd.merge(seriousMH, reversed_happy, on = 'State', how = 'inner')\n",
    "MH_Happy = MH_Happy[['State', 'MH_Rank', 'least_happy']]\n",
    "\n",
    "MH_Deaths =  pd.merge(seriousMH, opioid_sum, on = 'State', how = 'inner')\n",
    "MH_Deaths = MH_Deaths[['State', 'MH_Rank', 'death_rank']]"
   ]
  },
  {
   "cell_type": "code",
   "execution_count": null,
   "metadata": {},
   "outputs": [],
   "source": [
    "#display the output of these merged dataframes in one output \n",
    "from IPython.display import display, HTML\n",
    "css = \"\"\"\n",
    ".output {\n",
    "    flex-direction: row;\n",
    "}\n",
    "\"\"\"\n",
    "HTML('<style>{}</style>'.format(css))\n",
    "#try it out\n",
    "display(MH_Deaths)\n",
    "display(MH_Happy)"
   ]
  },
  {
   "cell_type": "markdown",
   "metadata": {},
   "source": [
    "observation: 3 states are shared between the most unhappy and highest percentage of serious mental illness, 2 states are shared between the highest death rate via opioids and highestpercentage of serious mental illness reported. Mote West virginia appears in both. "
   ]
  },
  {
   "cell_type": "code",
   "execution_count": null,
   "metadata": {},
   "outputs": [],
   "source": [
    "#merge all overdoes with all death rates so we can create a scatterplot below\n",
    "MH_Death_corr =pd.merge(mental_illness, opioids_sort, on = 'State', how = 'inner')\n",
    "#view column names for scatterplot purposes below\n",
    "MH_Death_corr.columns"
   ]
  },
  {
   "cell_type": "code",
   "execution_count": null,
   "metadata": {},
   "outputs": [],
   "source": [
    "##Visualization #1: \n",
    "##Overall Correlation between mental illness rankings and death rankings \n",
    "\n",
    "import seaborn as sns\n",
    "sns.scatterplot(x=\"Opioid Overdose Death Rate (Age-Adjusted)\", y=\"Adults Reporting Serious Mental Illness in the Past Year\", data=MH_Death_corr);"
   ]
  },
  {
   "cell_type": "markdown",
   "metadata": {},
   "source": [
    "Looking above, there doesnt seem to be any major correlation. No results are still results! "
   ]
  },
  {
   "cell_type": "code",
   "execution_count": null,
   "metadata": {},
   "outputs": [],
   "source": [
    "sns.scatterplot(x=\"MH_Rank\", y=\"Opioid Overdose Death Rate (Age-Adjusted)\", data=MH_Death_corr);"
   ]
  },
  {
   "cell_type": "markdown",
   "metadata": {},
   "source": [
    "## 4. Naloxone Access: \n",
    "use data from: https://preventionsolutions.edc.org/services/resources/state-naloxone-access-laws\n",
    "to find which states have the least strict restrictions on obtaining naloxone \n",
    "Specifically, we want to know what states don't require a prescription to get naloxone at a pharmacy"
   ]
  },
  {
   "cell_type": "code",
   "execution_count": null,
   "metadata": {},
   "outputs": [],
   "source": [
    "#next we want to know what states do not require a prescription to get naloxone at a pharmacy \n",
    "#import packages \n",
    "#parse the text \n",
    "import pandas as pd \n",
    "import requests \n",
    "from bs4 import BeautifulSoup \n",
    "import re\n",
    "from collections import Counter\n",
    "import urllib.request\n",
    "\n",
    "url = 'https://preventionsolutions.edc.org/services/resources/state-naloxone-access-laws'\n",
    "response = requests.get(url)\n",
    "soup = BeautifulSoup(response.text, 'html.parser')"
   ]
  },
  {
   "cell_type": "code",
   "execution_count": null,
   "metadata": {},
   "outputs": [],
   "source": [
    "#get the information we desire from the HTML (the states that dont require a prescription for naloxone)\n",
    "#see the formatting \n",
    "title = (soup.find(text=re.compile('Permission for pharmacists')))\n",
    "states = (soup.find(text=re.compile('Eight')))\n",
    "print(title,states)"
   ]
  },
  {
   "cell_type": "code",
   "execution_count": null,
   "metadata": {},
   "outputs": [],
   "source": [
    "#create a function to print out the output of what states require no prescription \n",
    "from IPython.display import Markdown, display\n",
    "def printmd(string):\n",
    "    display(Markdown(string))"
   ]
  },
  {
   "cell_type": "code",
   "execution_count": null,
   "metadata": {},
   "outputs": [],
   "source": [
    "#test function with outout variable for the information about naloxone states \n",
    "output = (\"%s : %s\"%(title,states))\n",
    "printmd(output)"
   ]
  },
  {
   "cell_type": "code",
   "execution_count": null,
   "metadata": {},
   "outputs": [],
   "source": [
    "#we want the eight states that allow for pharmacists to dispense naloxone without a prescription in a list \n",
    "#unfortunately, this will require renaming the first and last items in the list after we split the states item by comma \n",
    "statelist = states.split(\",\")\n",
    "\n",
    "#getting \"California\" on its own \n",
    "state1 = statelist[0]\n",
    "state1 \n",
    "#use split transforamtion \n",
    "state1 = state1.split(\"—\")\n",
    "state1\n",
    "first = state1[1]"
   ]
  },
  {
   "cell_type": "code",
   "execution_count": null,
   "metadata": {},
   "outputs": [],
   "source": [
    "#getting \"Washington\" on its own \n",
    "state8 = statelist[7]\n",
    "state8\n",
    "#use split transformation \n",
    "last = state8.split()\n",
    "last = last[1]"
   ]
  },
  {
   "cell_type": "code",
   "execution_count": null,
   "metadata": {},
   "outputs": [],
   "source": [
    "#join the other 6 states with washington and california to get our list of 8 states \n",
    "#append first and last to the other states \n",
    "abridged = statelist[1:7:1]\n",
    "abridged.append(last)\n",
    "abridged\n",
    "abridged.append(first)\n",
    "abridged2 = [x.strip(' ') for x in abridged]\n",
    "abridged2"
   ]
  },
  {
   "cell_type": "code",
   "execution_count": null,
   "metadata": {},
   "outputs": [],
   "source": [
    "#print a new summary of the states: \n",
    "print(title,\":\",abridged)"
   ]
  },
  {
   "cell_type": "code",
   "execution_count": null,
   "metadata": {},
   "outputs": [],
   "source": [
    "#put the list of states into a dataframe, make state column so it can be merged with other data\n",
    "naloxonelist = pd.DataFrame(abridged2, columns = ['State'])\n",
    "naloxonelist"
   ]
  },
  {
   "cell_type": "code",
   "execution_count": null,
   "metadata": {},
   "outputs": [],
   "source": [
    "#first merge naloxone data with happiness data, then add in death data \n",
    "happy_naloxone =  pd.merge(naloxonelist, reverse_happy, on = 'State', how = 'inner')\n",
    "happy_naloxone"
   ]
  },
  {
   "cell_type": "code",
   "execution_count": null,
   "metadata": {},
   "outputs": [],
   "source": [
    "#merge naloxone happiness data with State death Rates from opioid Drug overdose \n",
    "bigjoin = pd.merge(happy_naloxone,mental_illness, on = 'State', how = 'inner')\n",
    "bigjoin2 = pd.merge(bigjoin, opioids_sort, on = 'State', how = 'inner')"
   ]
  },
  {
   "cell_type": "code",
   "execution_count": null,
   "metadata": {},
   "outputs": [],
   "source": [
    "#view\n",
    "naloxone_states = bigjoin2[['State', 'Happy_Rank','MH_Rank', 'death_rank','Opioid Overdose Death Rate (Age-Adjusted)']]\n",
    "naloxone_states"
   ]
  },
  {
   "cell_type": "code",
   "execution_count": null,
   "metadata": {},
   "outputs": [],
   "source": [
    "#next we are going to recreate the same summary table but with the states that do not allow individuals to get naloxone from a pharmacy without an rx  \n",
    "no_naloxone_states2 = pd.merge(reverse_happy,mental_illness, on = 'State', how = 'inner')\n",
    "no_naloxone_states1 = pd.merge(no_naloxone_states2, opioids_sort, on = 'State', how = 'inner')\n",
    "no_naloxone_states3 = no_naloxone_states1[['State', 'Happy_Rank','MH_Rank', 'death_rank', 'Opioid Overdose Death Rate (Age-Adjusted)']]\n",
    "no_naloxone_states = pd.merge(no_naloxone_states3, naloxonelist, on ='State', how = 'outer')"
   ]
  },
  {
   "cell_type": "code",
   "execution_count": null,
   "metadata": {},
   "outputs": [],
   "source": [
    "#use drop function to drop the states that are shared between our merged all states table and naloxone table to just leave us with the states not on our naloxone list \n",
    "cond = no_naloxone_states['State'].isin(naloxone_states['State'])\n",
    "no_naloxone_states.drop(no_naloxone_states[cond].index, inplace = True)"
   ]
  },
  {
   "cell_type": "code",
   "execution_count": null,
   "metadata": {},
   "outputs": [],
   "source": [
    "#find averages of each column between non- naloxone and naloxone list states \n",
    "nalox_avg = naloxone_states.mean(axis=0)\n",
    "nalox_avg \n",
    "no_nalox_avg = no_naloxone_states.mean(axis=0)\n",
    "no_nalox_avg\n",
    "display(no_nalox_avg) \n",
    "display(nalox_avg)"
   ]
  },
  {
   "cell_type": "markdown",
   "metadata": {},
   "source": [
    "to reiterate: \n",
    "- A higher rank of happiness means more people are unhappy. \n",
    "no naloxone states are \"happier\" on average than the states allowing it without a prescription (but its not a major difference) \n",
    "- A higher rank of MH means that less people are mentally ill. \n",
    "less people in the states allowing naloxone are reporting as seriously mentally ill \n",
    "- A higher rank of death means less peopld are dying from opioid overdose.\n",
    "states that allow naloxone on average have more deaths still from opioid overdose than those who are not on the list \n",
    "\n",
    "when comparing these averages we must consider how much larger the \"non-naloxone\" list is so the averages are likely skewed. \n"
   ]
  },
  {
   "cell_type": "code",
   "execution_count": null,
   "metadata": {},
   "outputs": [],
   "source": [
    "all_states = no_naloxone_states1[['State', 'Happy_Rank','least_happy','MH_Rank', 'death_rank']]\n",
    "#make a pivot table to aggregate data so we can soon see average ranking of most opioid deaths, least happy, and highest mental health issues reported \n",
    "import numpy as np \n",
    "state_ranks=all_states.pivot_table(\n",
    "    values=['death_rank','MH_Rank','least_happy'],\n",
    "    index= 'State',\n",
    "    aggfunc=np.ma.mean)\n",
    "\n",
    "#use pivot table to create column for average ranking overal and find the worst ten states overall and make them a new variable called \"worst states\"\n",
    "state_ranks['average_rank'] = state_ranks.mean(axis=1)\n",
    "average_score = state_ranks.sort_values(by='average_rank')\n",
    "worst_states = average_score.head(10)\n",
    "worst_states\n"
   ]
  },
  {
   "cell_type": "markdown",
   "metadata": {},
   "source": [
    "please note that because a low value is bad for each of these columns, I left it in ascending order to show that a lower ranking overall means on average these states are the most unhappy, report the highest levels of mental health issues, and report the highest death count from opioid overdose "
   ]
  },
  {
   "cell_type": "code",
   "execution_count": null,
   "metadata": {},
   "outputs": [],
   "source": [
    "#use visualizations for worst states to see breakdown "
   ]
  },
  {
   "cell_type": "code",
   "execution_count": null,
   "metadata": {},
   "outputs": [],
   "source": [
    "worst_states.plot(kind='bar')\n",
    "plt.show()"
   ]
  },
  {
   "cell_type": "markdown",
   "metadata": {},
   "source": [
    "this graph shows you the order of worst states in our list of ten (notice how other bars change as red increases)"
   ]
  },
  {
   "cell_type": "code",
   "execution_count": null,
   "metadata": {},
   "outputs": [],
   "source": [
    "worst_states.plot.bar(y = ['MH_Rank', 'death_rank', 'least_happy'], title = 'Worst States Ranking', figsize = (20,5))"
   ]
  },
  {
   "cell_type": "markdown",
   "metadata": {},
   "source": [
    "This graph shows which scores really pulled a state into our \"worst list\" -- note LOWER bars have more weight in pulling the state to this list since a low average in this case is bad for our rankings. \n",
    "\n",
    "Note that the high bars actuallly mean a BETTER ranking - for exmaple, arkansas has low death rate for opipiods compared to other states but it ranks high in its number of adults with mental illness and also scored low on happiness sxore datat so its average score is still low, making it one of our \"worst states\". "
   ]
  },
  {
   "cell_type": "code",
   "execution_count": null,
   "metadata": {},
   "outputs": [],
   "source": [
    "#create a merge to see which states are both naloxone available and on the worst ranking average for most deaths, worst mental health, and least happy. \n",
    "average_nalox = pd.merge(worst_states,naloxonelist, on= 'State', how = 'inner')"
   ]
  },
  {
   "cell_type": "code",
   "execution_count": null,
   "metadata": {},
   "outputs": [],
   "source": [
    "average_nalox"
   ]
  },
  {
   "cell_type": "markdown",
   "metadata": {},
   "source": [
    "NOTE: only 2 out of the 10 states with the lowest average ranking score (highest death rates, highest mental illness rates, and lowest happiness rates) allows for naloxone distribution without a precription.THIS MUST CHANGE to combat our current opioid epidemic in our country! "
   ]
  },
  {
   "cell_type": "code",
   "execution_count": null,
   "metadata": {},
   "outputs": [],
   "source": [
    "#create naloxone column to specify states on the list or not \n",
    "# merge these two dfs together and sort by death rate (greatest to least)\n",
    "#use this info to create a pivot below\n",
    "no_naloxone_states['naloxone?'] = 'no'\n",
    "naloxone_states['naloxone?'] = 'yes'\n",
    "allstates = (no_naloxone_states, naloxone_states)\n",
    "aggregate_naloxone = pd.concat(allstates) \n",
    "overdose_states = aggregate_naloxone.sort_values(by = 'Opioid Overdose Death Rate (Age-Adjusted)', ascending = False)"
   ]
  },
  {
   "cell_type": "code",
   "execution_count": null,
   "metadata": {},
   "outputs": [],
   "source": [
    "#make a pivot table to compare totals for opioid overdose death rate from states who allow naloxone with a prescription to those that do not \n",
    "import numpy as np \n",
    "state_ranks=overdose_states.pivot_table(\n",
    "    values=['Opioid Overdose Death Rate (Age-Adjusted)'],\n",
    "    index= 'State',\n",
    "    columns = 'naloxone?',\n",
    "    aggfunc='mean', margins = True, margins_name='Total')\n",
    "state_ranks\n"
   ]
  },
  {
   "cell_type": "code",
   "execution_count": null,
   "metadata": {},
   "outputs": [],
   "source": [
    "#lets try aggregating this data with a group_by instead \n",
    "all_states_bar = pd.concat([no_naloxone_states,naloxone_states], ignore_index=True)\n",
    "compare_states = all_states_bar.groupby('naloxone?')\n",
    "compare_states1 = compare_states.mean()\n",
    "\n",
    "#plot to visualize this data \n",
    "compare_states1.plot(kind = 'bar')\n",
    "\n",
    "plt.show()"
   ]
  },
  {
   "cell_type": "markdown",
   "metadata": {},
   "source": [
    "Looking at this information: we can see average deaths for states without naloxone restriction by prescription have higher rates of opioid overdoes than those states who do not allow individuals to obtain naloxone as easily. This brings me to twp possible conclusions \n",
    "\n",
    "- 1. having readily accessible naloxone allows for drug users to push boundaries with their use as they can more easily prepare others to help them in case of an accidental overdose\n",
    "- 2. Because only 8 states actually have this allowance, it is likely there isn't enough data to say that this average is actually helpful in determining the effects of expanding naloxone access. Additionally, two of the states who rank in the top 10 for overdose deaths are on the list for naloxone allowance without a prescription, so it is possible these states chose to implement this to battle the effects of opioid misuse, but that it has not yet been enough time. \n",
    "- note: in my opinion, even in states where you can get it without a prescription, it is not always widely promoted or talked about in a way that allows for more individuals to learn about how and when to use naloxone for themselves, their loved ones, or eben stangers. \n",
    "\n",
    "While these results may make it appear that naloxone is not a good aid in fighting the opioid crisis, I believe it simply is not prominent enough yet to do an accurate study on its effects in communitys with a high drug -use rate. "
   ]
  },
  {
   "cell_type": "markdown",
   "metadata": {},
   "source": [
    "## Problem Applicability and Summary "
   ]
  },
  {
   "cell_type": "code",
   "execution_count": null,
   "metadata": {},
   "outputs": [],
   "source": []
  }
 ],
 "metadata": {
  "kernelspec": {
   "display_name": "Python 3",
   "language": "python",
   "name": "python3"
  },
  "language_info": {
   "codemirror_mode": {
    "name": "ipython",
    "version": 3
   },
   "file_extension": ".py",
   "mimetype": "text/x-python",
   "name": "python",
   "nbconvert_exporter": "python",
   "pygments_lexer": "ipython3",
   "version": "3.6.7"
  }
 },
 "nbformat": 4,
 "nbformat_minor": 4
}
