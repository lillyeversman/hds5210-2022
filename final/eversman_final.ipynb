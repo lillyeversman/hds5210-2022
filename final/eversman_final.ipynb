{
 "cells": [
  {
   "cell_type": "markdown",
   "metadata": {},
   "source": [
    "## Happiness, Mental Illness, and Drug Overdose Deaths Across the 50 States and DC"
   ]
  },
  {
   "cell_type": "markdown",
   "metadata": {},
   "source": [
    "## Purpose of this project: \n",
    "To compare happiness levels per State with Drug Overdose levels as well as instance of mental illness per state. Additionally, I will look at which states have the most readily available Naloxone. \n",
    "Naloxone is a medication approved by the Food and Drug Administration (FDA) designed to rapidly reverse opioid overdose. It is an opioid antagonist—meaning that it binds to opioid receptors and can reverse and block the effects of other opioids, such as heroin, morphine, and oxycodone.\n",
    "According to my research: 8 states currently allow individuals to get naloxone from a pharamcy without a prescription. I want to compare which states have high levels of overdose with those with less restriction on obtaining Naloxone. "
   ]
  },
  {
   "cell_type": "code",
   "execution_count": null,
   "metadata": {},
   "outputs": [],
   "source": [
    "#import packages needed for first data read\n",
    "import pandas as pd \n",
    "import numpy as np\n",
    "import matplotlib.pyplot as plt\n",
    "from unicodedata import normalize"
   ]
  },
  {
   "cell_type": "markdown",
   "metadata": {},
   "source": [
    "## 1. Happiness Rankings by State using 3 main indicators: \n",
    "   -Emotional and Physical Wellbeing, Work Environment, Community & Environment "
   ]
  },
  {
   "cell_type": "code",
   "execution_count": null,
   "metadata": {},
   "outputs": [],
   "source": [
    "#get the table from html website\n",
    "happiness_rank = pd.read_html('https://worldpopulationreview.com/state-rankings/happiest-states')[0]"
   ]
  },
  {
   "cell_type": "code",
   "execution_count": null,
   "metadata": {},
   "outputs": [],
   "source": [
    "#create function for making a ranking columns based on index after sorting\n",
    "def ranker(df): \n",
    "    return df.index + 1"
   ]
  },
  {
   "cell_type": "code",
   "execution_count": null,
   "metadata": {},
   "outputs": [],
   "source": [
    "#see if ranking column was added\n",
    "happiness_rank['Happy_Rank'] = ranker(happiness_rank)"
   ]
  },
  {
   "cell_type": "code",
   "execution_count": null,
   "metadata": {},
   "outputs": [],
   "source": [
    "#get top 10 happiest states via head\n",
    "happiness_rank.head(10)"
   ]
  },
  {
   "cell_type": "markdown",
   "metadata": {},
   "source": [
    "The 5 \"happiest\" states are: Hawaii, Utah, Minnesota, North Dakota, and California "
   ]
  },
  {
   "cell_type": "code",
   "execution_count": null,
   "metadata": {},
   "outputs": [],
   "source": [
    "#the 10 least happy states \n",
    "happiness_rank.tail(10)"
   ]
  },
  {
   "cell_type": "code",
   "execution_count": null,
   "metadata": {},
   "outputs": [],
   "source": [
    "#do a reverse rank to view states by least happy - this is for the purpose of averaging ranks later in the file \n",
    "reverse_happy = happiness_rank.sort_values(by='Happy_Rank',ascending=False).reset_index()\n",
    "#use ranker function to add a ranker of most unhappy states \n",
    "reverse_happy['least_happy'] = ranker(reverse_happy)\n",
    "reverse_happy"
   ]
  },
  {
   "cell_type": "code",
   "execution_count": 70,
   "metadata": {},
   "outputs": [
    {
     "data": {
      "text/html": [
       "<div>\n",
       "<style scoped>\n",
       "    .dataframe tbody tr th:only-of-type {\n",
       "        vertical-align: middle;\n",
       "    }\n",
       "\n",
       "    .dataframe tbody tr th {\n",
       "        vertical-align: top;\n",
       "    }\n",
       "\n",
       "    .dataframe thead th {\n",
       "        text-align: right;\n",
       "    }\n",
       "</style>\n",
       "<table border=\"1\" class=\"dataframe\">\n",
       "  <thead>\n",
       "    <tr style=\"text-align: right;\">\n",
       "      <th></th>\n",
       "      <th>index</th>\n",
       "      <th>State</th>\n",
       "      <th>Total Score</th>\n",
       "      <th>Emotional &amp; Physical Well Being</th>\n",
       "      <th>Work Environment</th>\n",
       "      <th>Community &amp; Environment</th>\n",
       "      <th>Happy_Rank</th>\n",
       "      <th>least_happy</th>\n",
       "    </tr>\n",
       "  </thead>\n",
       "  <tbody>\n",
       "    <tr>\n",
       "      <th>0</th>\n",
       "      <td>49</td>\n",
       "      <td>West Virginia</td>\n",
       "      <td>33.42</td>\n",
       "      <td>49</td>\n",
       "      <td>48</td>\n",
       "      <td>32</td>\n",
       "      <td>50</td>\n",
       "      <td>1</td>\n",
       "    </tr>\n",
       "    <tr>\n",
       "      <th>1</th>\n",
       "      <td>48</td>\n",
       "      <td>Arkansas</td>\n",
       "      <td>36.61</td>\n",
       "      <td>50</td>\n",
       "      <td>29</td>\n",
       "      <td>23</td>\n",
       "      <td>49</td>\n",
       "      <td>2</td>\n",
       "    </tr>\n",
       "    <tr>\n",
       "      <th>2</th>\n",
       "      <td>47</td>\n",
       "      <td>Louisiana</td>\n",
       "      <td>37.15</td>\n",
       "      <td>44</td>\n",
       "      <td>50</td>\n",
       "      <td>41</td>\n",
       "      <td>48</td>\n",
       "      <td>3</td>\n",
       "    </tr>\n",
       "    <tr>\n",
       "      <th>3</th>\n",
       "      <td>46</td>\n",
       "      <td>Alaska</td>\n",
       "      <td>38.21</td>\n",
       "      <td>33</td>\n",
       "      <td>49</td>\n",
       "      <td>50</td>\n",
       "      <td>47</td>\n",
       "      <td>4</td>\n",
       "    </tr>\n",
       "    <tr>\n",
       "      <th>4</th>\n",
       "      <td>45</td>\n",
       "      <td>Oklahoma</td>\n",
       "      <td>38.89</td>\n",
       "      <td>47</td>\n",
       "      <td>35</td>\n",
       "      <td>33</td>\n",
       "      <td>46</td>\n",
       "      <td>5</td>\n",
       "    </tr>\n",
       "    <tr>\n",
       "      <th>5</th>\n",
       "      <td>44</td>\n",
       "      <td>Alabama</td>\n",
       "      <td>39.35</td>\n",
       "      <td>46</td>\n",
       "      <td>39</td>\n",
       "      <td>43</td>\n",
       "      <td>45</td>\n",
       "      <td>6</td>\n",
       "    </tr>\n",
       "    <tr>\n",
       "      <th>6</th>\n",
       "      <td>43</td>\n",
       "      <td>Kentucky</td>\n",
       "      <td>39.42</td>\n",
       "      <td>48</td>\n",
       "      <td>19</td>\n",
       "      <td>19</td>\n",
       "      <td>44</td>\n",
       "      <td>7</td>\n",
       "    </tr>\n",
       "    <tr>\n",
       "      <th>7</th>\n",
       "      <td>42</td>\n",
       "      <td>Mississippi</td>\n",
       "      <td>41.63</td>\n",
       "      <td>42</td>\n",
       "      <td>46</td>\n",
       "      <td>26</td>\n",
       "      <td>43</td>\n",
       "      <td>8</td>\n",
       "    </tr>\n",
       "    <tr>\n",
       "      <th>8</th>\n",
       "      <td>41</td>\n",
       "      <td>Missouri</td>\n",
       "      <td>42.76</td>\n",
       "      <td>45</td>\n",
       "      <td>34</td>\n",
       "      <td>21</td>\n",
       "      <td>42</td>\n",
       "      <td>9</td>\n",
       "    </tr>\n",
       "    <tr>\n",
       "      <th>9</th>\n",
       "      <td>40</td>\n",
       "      <td>New Mexico</td>\n",
       "      <td>43.35</td>\n",
       "      <td>39</td>\n",
       "      <td>47</td>\n",
       "      <td>35</td>\n",
       "      <td>41</td>\n",
       "      <td>10</td>\n",
       "    </tr>\n",
       "  </tbody>\n",
       "</table>\n",
       "</div>"
      ],
      "text/plain": [
       "   index          State  Total Score  Emotional & Physical Well Being  \\\n",
       "0     49  West Virginia        33.42                               49   \n",
       "1     48       Arkansas        36.61                               50   \n",
       "2     47      Louisiana        37.15                               44   \n",
       "3     46         Alaska        38.21                               33   \n",
       "4     45       Oklahoma        38.89                               47   \n",
       "5     44        Alabama        39.35                               46   \n",
       "6     43       Kentucky        39.42                               48   \n",
       "7     42    Mississippi        41.63                               42   \n",
       "8     41       Missouri        42.76                               45   \n",
       "9     40     New Mexico        43.35                               39   \n",
       "\n",
       "   Work Environment  Community & Environment  Happy_Rank  least_happy  \n",
       "0                48                       32          50            1  \n",
       "1                29                       23          49            2  \n",
       "2                50                       41          48            3  \n",
       "3                49                       50          47            4  \n",
       "4                35                       33          46            5  \n",
       "5                39                       43          45            6  \n",
       "6                19                       19          44            7  \n",
       "7                46                       26          43            8  \n",
       "8                34                       21          42            9  \n",
       "9                47                       35          41           10  "
      ]
     },
     "execution_count": 70,
     "metadata": {},
     "output_type": "execute_result"
    }
   ],
   "source": [
    "#get the least happy states \n",
    "reversed_happy = reverse_happy.head(10)\n",
    "reversed_happy"
   ]
  },
  {
   "cell_type": "code",
   "execution_count": 72,
   "metadata": {},
   "outputs": [
    {
     "data": {
      "text/plain": [
       "['West Virginia',\n",
       " 'Arkansas',\n",
       " 'Louisiana',\n",
       " 'Alaska',\n",
       " 'Oklahoma',\n",
       " 'Alabama',\n",
       " 'Kentucky',\n",
       " 'Mississippi',\n",
       " 'Missouri',\n",
       " 'New Mexico']"
      ]
     },
     "execution_count": 72,
     "metadata": {},
     "output_type": "execute_result"
    }
   ],
   "source": [
    "reversed_happy['State'].tolist()"
   ]
  },
  {
   "cell_type": "markdown",
   "metadata": {},
   "source": [
    "The 5 least happy states are: Oklahoma, Alaska, Louisiana, Arkansas, and West Virginia "
   ]
  },
  {
   "cell_type": "markdown",
   "metadata": {},
   "source": [
    "## 2. Deaths by Drug Overdose among the states in the last year "
   ]
  },
  {
   "cell_type": "code",
   "execution_count": null,
   "metadata": {},
   "outputs": [],
   "source": [
    "#import overdose rate data from KFF website \n",
    "#renmane column Location to State for future consistency/merging \n",
    "death_rates = pd.read_csv(' Opioidsdeath.csv')\n",
    "death_rates.rename(columns={'Location':'State'}, inplace=True)"
   ]
  },
  {
   "cell_type": "code",
   "execution_count": null,
   "metadata": {},
   "outputs": [],
   "source": [
    "#note the rates are per 100,000 population \n",
    "opioids_sort= death_rates.sort_values(by=['Opioid Overdose Death Rate (Age-Adjusted)'],ascending=False).reset_index()\n",
    "opioids_sort['death_rank'] = ranker(opioids_sort)\n",
    "alldrug_sort = death_rates.sort_values(by=['All Drug Overdose Death Rate (Age-Adjusted)'],ascending=False)\n",
    "opioids_sort.columns"
   ]
  },
  {
   "cell_type": "code",
   "execution_count": 66,
   "metadata": {},
   "outputs": [
    {
     "name": "stderr",
     "output_type": "stream",
     "text": [
      "/opt/tljh/user/lib/python3.6/site-packages/ipykernel_launcher.py:2: SettingWithCopyWarning: \n",
      "A value is trying to be set on a copy of a slice from a DataFrame.\n",
      "Try using .loc[row_indexer,col_indexer] = value instead\n",
      "\n",
      "See the caveats in the documentation: https://pandas.pydata.org/pandas-docs/stable/user_guide/indexing.html#returning-a-view-versus-a-copy\n",
      "  \n"
     ]
    },
    {
     "data": {
      "text/html": [
       "<div>\n",
       "<style scoped>\n",
       "    .dataframe tbody tr th:only-of-type {\n",
       "        vertical-align: middle;\n",
       "    }\n",
       "\n",
       "    .dataframe tbody tr th {\n",
       "        vertical-align: top;\n",
       "    }\n",
       "\n",
       "    .dataframe thead th {\n",
       "        text-align: right;\n",
       "    }\n",
       "</style>\n",
       "<table border=\"1\" class=\"dataframe\">\n",
       "  <thead>\n",
       "    <tr style=\"text-align: right;\">\n",
       "      <th></th>\n",
       "      <th>index</th>\n",
       "      <th>State</th>\n",
       "      <th>Opioid Overdose Death Rate (Age-Adjusted)</th>\n",
       "      <th>All Drug Overdose Death Rate (Age-Adjusted)</th>\n",
       "      <th>death_rank</th>\n",
       "    </tr>\n",
       "  </thead>\n",
       "  <tbody>\n",
       "    <tr>\n",
       "      <th>0</th>\n",
       "      <td>7</td>\n",
       "      <td>Delaware</td>\n",
       "      <td>43.0</td>\n",
       "      <td>48.0</td>\n",
       "      <td>1</td>\n",
       "    </tr>\n",
       "    <tr>\n",
       "      <th>1</th>\n",
       "      <td>48</td>\n",
       "      <td>West Virginia</td>\n",
       "      <td>41.4</td>\n",
       "      <td>52.8</td>\n",
       "      <td>2</td>\n",
       "    </tr>\n",
       "    <tr>\n",
       "      <th>2</th>\n",
       "      <td>20</td>\n",
       "      <td>Maryland</td>\n",
       "      <td>34.0</td>\n",
       "      <td>38.2</td>\n",
       "      <td>3</td>\n",
       "    </tr>\n",
       "    <tr>\n",
       "      <th>3</th>\n",
       "      <td>8</td>\n",
       "      <td>District of Columbia</td>\n",
       "      <td>33.7</td>\n",
       "      <td>43.2</td>\n",
       "      <td>4</td>\n",
       "    </tr>\n",
       "    <tr>\n",
       "      <th>4</th>\n",
       "      <td>6</td>\n",
       "      <td>Connecticut</td>\n",
       "      <td>31.7</td>\n",
       "      <td>34.7</td>\n",
       "      <td>5</td>\n",
       "    </tr>\n",
       "    <tr>\n",
       "      <th>5</th>\n",
       "      <td>35</td>\n",
       "      <td>Ohio</td>\n",
       "      <td>31.5</td>\n",
       "      <td>38.3</td>\n",
       "      <td>6</td>\n",
       "    </tr>\n",
       "    <tr>\n",
       "      <th>6</th>\n",
       "      <td>29</td>\n",
       "      <td>New Hampshire</td>\n",
       "      <td>29.1</td>\n",
       "      <td>32.0</td>\n",
       "      <td>7</td>\n",
       "    </tr>\n",
       "    <tr>\n",
       "      <th>7</th>\n",
       "      <td>21</td>\n",
       "      <td>Massachusetts</td>\n",
       "      <td>28.9</td>\n",
       "      <td>32.1</td>\n",
       "      <td>8</td>\n",
       "    </tr>\n",
       "    <tr>\n",
       "      <th>8</th>\n",
       "      <td>30</td>\n",
       "      <td>New Jersey</td>\n",
       "      <td>28.4</td>\n",
       "      <td>31.7</td>\n",
       "      <td>9</td>\n",
       "    </tr>\n",
       "    <tr>\n",
       "      <th>9</th>\n",
       "      <td>19</td>\n",
       "      <td>Maine</td>\n",
       "      <td>26.4</td>\n",
       "      <td>29.9</td>\n",
       "      <td>10</td>\n",
       "    </tr>\n",
       "  </tbody>\n",
       "</table>\n",
       "</div>"
      ],
      "text/plain": [
       "   index                 State  Opioid Overdose Death Rate (Age-Adjusted)  \\\n",
       "0      7              Delaware                                       43.0   \n",
       "1     48         West Virginia                                       41.4   \n",
       "2     20              Maryland                                       34.0   \n",
       "3      8  District of Columbia                                       33.7   \n",
       "4      6           Connecticut                                       31.7   \n",
       "5     35                  Ohio                                       31.5   \n",
       "6     29         New Hampshire                                       29.1   \n",
       "7     21         Massachusetts                                       28.9   \n",
       "8     30            New Jersey                                       28.4   \n",
       "9     19                 Maine                                       26.4   \n",
       "\n",
       "   All Drug Overdose Death Rate (Age-Adjusted)  death_rank  \n",
       "0                                         48.0           1  \n",
       "1                                         52.8           2  \n",
       "2                                         38.2           3  \n",
       "3                                         43.2           4  \n",
       "4                                         34.7           5  \n",
       "5                                         38.3           6  \n",
       "6                                         32.0           7  \n",
       "7                                         32.1           8  \n",
       "8                                         31.7           9  \n",
       "9                                         29.9          10  "
      ]
     },
     "execution_count": 66,
     "metadata": {},
     "output_type": "execute_result"
    }
   ],
   "source": [
    "opioid_sum = opioids_sort.head(10)\n",
    "opioid_sum['death_rank'] = ranker(opioid_sum)\n",
    "opioid_sum"
   ]
  },
  {
   "cell_type": "code",
   "execution_count": 68,
   "metadata": {},
   "outputs": [
    {
     "data": {
      "text/plain": [
       "['Delaware',\n",
       " 'West Virginia',\n",
       " 'Maryland',\n",
       " 'District of Columbia',\n",
       " 'Connecticut',\n",
       " 'Ohio',\n",
       " 'New Hampshire',\n",
       " 'Massachusetts',\n",
       " 'New Jersey',\n",
       " 'Maine']"
      ]
     },
     "execution_count": 68,
     "metadata": {},
     "output_type": "execute_result"
    }
   ],
   "source": [
    "#get list of the ten states with highest rate of opioid overdose deaths per 100,000 (will use this list for results at end of project)\n",
    "opioid_sum['State'].tolist()"
   ]
  },
  {
   "cell_type": "code",
   "execution_count": 102,
   "metadata": {},
   "outputs": [],
   "source": [
    "#regular all drug (non opioid specific deaths)\n",
    "drug_sum = alldrug_sort.head(10)"
   ]
  },
  {
   "cell_type": "markdown",
   "metadata": {},
   "source": [
    "merge the two sorted groups of death rates together to see which of the ten states for highest opioid overdoses are also in the top ten highest for all drug overdoses "
   ]
  },
  {
   "cell_type": "code",
   "execution_count": 101,
   "metadata": {},
   "outputs": [],
   "source": [
    "overdose_summary = pd.merge(opioid_sum, drug_sum, on = 'State', how = 'inner')"
   ]
  },
  {
   "cell_type": "code",
   "execution_count": 100,
   "metadata": {},
   "outputs": [
    {
     "data": {
      "text/html": [
       "<div>\n",
       "<style scoped>\n",
       "    .dataframe tbody tr th:only-of-type {\n",
       "        vertical-align: middle;\n",
       "    }\n",
       "\n",
       "    .dataframe tbody tr th {\n",
       "        vertical-align: top;\n",
       "    }\n",
       "\n",
       "    .dataframe thead th {\n",
       "        text-align: right;\n",
       "    }\n",
       "</style>\n",
       "<table border=\"1\" class=\"dataframe\">\n",
       "  <thead>\n",
       "    <tr style=\"text-align: right;\">\n",
       "      <th></th>\n",
       "      <th>index</th>\n",
       "      <th>State</th>\n",
       "      <th>Opioid Overdose Death Rate (Age-Adjusted)_x</th>\n",
       "      <th>All Drug Overdose Death Rate (Age-Adjusted)_x</th>\n",
       "      <th>death_rank</th>\n",
       "      <th>Opioid Overdose Death Rate (Age-Adjusted)_y</th>\n",
       "      <th>All Drug Overdose Death Rate (Age-Adjusted)_y</th>\n",
       "    </tr>\n",
       "  </thead>\n",
       "  <tbody>\n",
       "    <tr>\n",
       "      <th>0</th>\n",
       "      <td>7</td>\n",
       "      <td>Delaware</td>\n",
       "      <td>43.0</td>\n",
       "      <td>48.0</td>\n",
       "      <td>1</td>\n",
       "      <td>43.0</td>\n",
       "      <td>48.0</td>\n",
       "    </tr>\n",
       "    <tr>\n",
       "      <th>1</th>\n",
       "      <td>48</td>\n",
       "      <td>West Virginia</td>\n",
       "      <td>41.4</td>\n",
       "      <td>52.8</td>\n",
       "      <td>2</td>\n",
       "      <td>41.4</td>\n",
       "      <td>52.8</td>\n",
       "    </tr>\n",
       "    <tr>\n",
       "      <th>2</th>\n",
       "      <td>20</td>\n",
       "      <td>Maryland</td>\n",
       "      <td>34.0</td>\n",
       "      <td>38.2</td>\n",
       "      <td>3</td>\n",
       "      <td>34.0</td>\n",
       "      <td>38.2</td>\n",
       "    </tr>\n",
       "    <tr>\n",
       "      <th>3</th>\n",
       "      <td>8</td>\n",
       "      <td>District of Columbia</td>\n",
       "      <td>33.7</td>\n",
       "      <td>43.2</td>\n",
       "      <td>4</td>\n",
       "      <td>33.7</td>\n",
       "      <td>43.2</td>\n",
       "    </tr>\n",
       "    <tr>\n",
       "      <th>4</th>\n",
       "      <td>6</td>\n",
       "      <td>Connecticut</td>\n",
       "      <td>31.7</td>\n",
       "      <td>34.7</td>\n",
       "      <td>5</td>\n",
       "      <td>31.7</td>\n",
       "      <td>34.7</td>\n",
       "    </tr>\n",
       "    <tr>\n",
       "      <th>5</th>\n",
       "      <td>35</td>\n",
       "      <td>Ohio</td>\n",
       "      <td>31.5</td>\n",
       "      <td>38.3</td>\n",
       "      <td>6</td>\n",
       "      <td>31.5</td>\n",
       "      <td>38.3</td>\n",
       "    </tr>\n",
       "    <tr>\n",
       "      <th>6</th>\n",
       "      <td>29</td>\n",
       "      <td>New Hampshire</td>\n",
       "      <td>29.1</td>\n",
       "      <td>32.0</td>\n",
       "      <td>7</td>\n",
       "      <td>29.1</td>\n",
       "      <td>32.0</td>\n",
       "    </tr>\n",
       "    <tr>\n",
       "      <th>7</th>\n",
       "      <td>21</td>\n",
       "      <td>Massachusetts</td>\n",
       "      <td>28.9</td>\n",
       "      <td>32.1</td>\n",
       "      <td>8</td>\n",
       "      <td>28.9</td>\n",
       "      <td>32.1</td>\n",
       "    </tr>\n",
       "  </tbody>\n",
       "</table>\n",
       "</div>"
      ],
      "text/plain": [
       "   index                 State  Opioid Overdose Death Rate (Age-Adjusted)_x  \\\n",
       "0      7              Delaware                                         43.0   \n",
       "1     48         West Virginia                                         41.4   \n",
       "2     20              Maryland                                         34.0   \n",
       "3      8  District of Columbia                                         33.7   \n",
       "4      6           Connecticut                                         31.7   \n",
       "5     35                  Ohio                                         31.5   \n",
       "6     29         New Hampshire                                         29.1   \n",
       "7     21         Massachusetts                                         28.9   \n",
       "\n",
       "   All Drug Overdose Death Rate (Age-Adjusted)_x  death_rank  \\\n",
       "0                                           48.0           1   \n",
       "1                                           52.8           2   \n",
       "2                                           38.2           3   \n",
       "3                                           43.2           4   \n",
       "4                                           34.7           5   \n",
       "5                                           38.3           6   \n",
       "6                                           32.0           7   \n",
       "7                                           32.1           8   \n",
       "\n",
       "   Opioid Overdose Death Rate (Age-Adjusted)_y  \\\n",
       "0                                         43.0   \n",
       "1                                         41.4   \n",
       "2                                         34.0   \n",
       "3                                         33.7   \n",
       "4                                         31.7   \n",
       "5                                         31.5   \n",
       "6                                         29.1   \n",
       "7                                         28.9   \n",
       "\n",
       "   All Drug Overdose Death Rate (Age-Adjusted)_y  \n",
       "0                                           48.0  \n",
       "1                                           52.8  \n",
       "2                                           38.2  \n",
       "3                                           43.2  \n",
       "4                                           34.7  \n",
       "5                                           38.3  \n",
       "6                                           32.0  \n",
       "7                                           32.1  "
      ]
     },
     "execution_count": 100,
     "metadata": {},
     "output_type": "execute_result"
    }
   ],
   "source": [
    "#use merged data tp see which states are in both top ten for opioid overdose and all drug overdose\n",
    "overdose_summary"
   ]
  },
  {
   "cell_type": "markdown",
   "metadata": {},
   "source": [
    "Observation: 7/10 states are in the top 10 for both opioid overdoses per 100,000 and all drug overdoses "
   ]
  },
  {
   "cell_type": "code",
   "execution_count": 86,
   "metadata": {},
   "outputs": [],
   "source": [
    "#now lets see the 10 states with the lowest overdose death rate: \n",
    "least_opioids = death_rates.sort_values(by=['Opioid Overdose Death Rate (Age-Adjusted)'])\n",
    "least_opioids = least_opioids.head(10)"
   ]
  },
  {
   "cell_type": "code",
   "execution_count": 87,
   "metadata": {},
   "outputs": [],
   "source": [
    "#see which states have th lowest overall drug death overdose rate \n",
    "least_drugs = death_rates.sort_values(by=['All Drug Overdose Death Rate (Age-Adjusted)'])\n",
    "least_drugs = least_drugs.head(10)"
   ]
  },
  {
   "cell_type": "code",
   "execution_count": 103,
   "metadata": {},
   "outputs": [],
   "source": [
    "#merge the two data sets and see which states are common in having lowest all drug overdose death rate and opioid specific death rate \n",
    "least_overdoes_sum = pd.merge(least_drugs, least_opioids, on = 'State', how = 'inner')"
   ]
  },
  {
   "cell_type": "code",
   "execution_count": 89,
   "metadata": {},
   "outputs": [
    {
     "data": {
      "text/html": [
       "<div>\n",
       "<style scoped>\n",
       "    .dataframe tbody tr th:only-of-type {\n",
       "        vertical-align: middle;\n",
       "    }\n",
       "\n",
       "    .dataframe tbody tr th {\n",
       "        vertical-align: top;\n",
       "    }\n",
       "\n",
       "    .dataframe thead th {\n",
       "        text-align: right;\n",
       "    }\n",
       "</style>\n",
       "<table border=\"1\" class=\"dataframe\">\n",
       "  <thead>\n",
       "    <tr style=\"text-align: right;\">\n",
       "      <th></th>\n",
       "      <th>State</th>\n",
       "      <th>Opioid Overdose Death Rate (Age-Adjusted)_x</th>\n",
       "      <th>All Drug Overdose Death Rate (Age-Adjusted)_x</th>\n",
       "      <th>Opioid Overdose Death Rate (Age-Adjusted)_y</th>\n",
       "      <th>All Drug Overdose Death Rate (Age-Adjusted)_y</th>\n",
       "    </tr>\n",
       "  </thead>\n",
       "  <tbody>\n",
       "    <tr>\n",
       "      <th>0</th>\n",
       "      <td>Nebraska</td>\n",
       "      <td>3.6</td>\n",
       "      <td>8.7</td>\n",
       "      <td>3.6</td>\n",
       "      <td>8.7</td>\n",
       "    </tr>\n",
       "    <tr>\n",
       "      <th>1</th>\n",
       "      <td>South Dakota</td>\n",
       "      <td>4.5</td>\n",
       "      <td>10.5</td>\n",
       "      <td>4.5</td>\n",
       "      <td>10.5</td>\n",
       "    </tr>\n",
       "    <tr>\n",
       "      <th>2</th>\n",
       "      <td>Texas</td>\n",
       "      <td>5.1</td>\n",
       "      <td>10.8</td>\n",
       "      <td>5.1</td>\n",
       "      <td>10.8</td>\n",
       "    </tr>\n",
       "    <tr>\n",
       "      <th>3</th>\n",
       "      <td>North Dakota</td>\n",
       "      <td>5.9</td>\n",
       "      <td>11.4</td>\n",
       "      <td>5.9</td>\n",
       "      <td>11.4</td>\n",
       "    </tr>\n",
       "    <tr>\n",
       "      <th>4</th>\n",
       "      <td>Iowa</td>\n",
       "      <td>5.4</td>\n",
       "      <td>11.5</td>\n",
       "      <td>5.4</td>\n",
       "      <td>11.5</td>\n",
       "    </tr>\n",
       "    <tr>\n",
       "      <th>5</th>\n",
       "      <td>Arkansas</td>\n",
       "      <td>7.0</td>\n",
       "      <td>13.5</td>\n",
       "      <td>7.0</td>\n",
       "      <td>13.5</td>\n",
       "    </tr>\n",
       "  </tbody>\n",
       "</table>\n",
       "</div>"
      ],
      "text/plain": [
       "          State  Opioid Overdose Death Rate (Age-Adjusted)_x  \\\n",
       "0      Nebraska                                          3.6   \n",
       "1  South Dakota                                          4.5   \n",
       "2         Texas                                          5.1   \n",
       "3  North Dakota                                          5.9   \n",
       "4          Iowa                                          5.4   \n",
       "5      Arkansas                                          7.0   \n",
       "\n",
       "   All Drug Overdose Death Rate (Age-Adjusted)_x  \\\n",
       "0                                            8.7   \n",
       "1                                           10.5   \n",
       "2                                           10.8   \n",
       "3                                           11.4   \n",
       "4                                           11.5   \n",
       "5                                           13.5   \n",
       "\n",
       "   Opioid Overdose Death Rate (Age-Adjusted)_y  \\\n",
       "0                                          3.6   \n",
       "1                                          4.5   \n",
       "2                                          5.1   \n",
       "3                                          5.9   \n",
       "4                                          5.4   \n",
       "5                                          7.0   \n",
       "\n",
       "   All Drug Overdose Death Rate (Age-Adjusted)_y  \n",
       "0                                            8.7  \n",
       "1                                           10.5  \n",
       "2                                           10.8  \n",
       "3                                           11.4  \n",
       "4                                           11.5  \n",
       "5                                           13.5  "
      ]
     },
     "execution_count": 89,
     "metadata": {},
     "output_type": "execute_result"
    }
   ],
   "source": [
    "least_overdoes_sum"
   ]
  },
  {
   "cell_type": "markdown",
   "metadata": {},
   "source": [
    "Observation: 5/10of the states with the least opioid deaths are shared among the least of the lowest amount of all drug overdoes\n",
    "For remainder of work in this project, we will be focusing on the opioid rates/ranking"
   ]
  },
  {
   "cell_type": "code",
   "execution_count": 108,
   "metadata": {},
   "outputs": [
    {
     "data": {
      "image/png": "[encoded data removed]",
      "text/plain": [
       "<Figure size 432x288 with 1 Axes>"
      ]
     },
     "metadata": {
      "needs_background": "light"
     },
     "output_type": "display_data"
    }
   ],
   "source": [
    "opioids_happiness = pd.merge(happiness_rank,opioids_sort, on = 'State', how = 'inner')\n",
    "opioids_happiness\n",
    "sns.scatterplot(x=\"Total Score\", y=\"Opioid Overdose Death Rate (Age-Adjusted)\", data=opioids_happiness);"
   ]
  },
  {
   "cell_type": "markdown",
   "metadata": {},
   "source": [
    "This visualization was created to see if there was any major correlaiton between opioid overdoes death rate and total happiness score. I expected more of strong linear negative correlation as to sugggest that while happiness score increases, deaths would decrease. Unfrotuantely, the groah does not support this notion. "
   ]
  },
  {
   "cell_type": "markdown",
   "metadata": {},
   "source": [
    "## 3.  Mental Illness % among the states in the last year "
   ]
  },
  {
   "cell_type": "code",
   "execution_count": null,
   "metadata": {},
   "outputs": [],
   "source": [
    "#import overdose death data: \n",
    "mental_illness= pd.read_csv('mental_illness.csv')\n",
    "mental_illness \n",
    "#renmane column Location to State for future consistency/merging \n",
    "mental_illness.rename(columns={'Location':'State'}, inplace=True)\n",
    "mental_illness\n",
    "#sort values and create ranked column based on serious mental illness \n",
    "mental_illness = mental_illness.sort_values(by = 'Adults Reporting Serious Mental Illness in the Past Year', ascending=False).reset_index()\n",
    "mental_illness['MH_Rank'] = ranker(mental_illness)"
   ]
  },
  {
   "cell_type": "code",
   "execution_count": null,
   "metadata": {},
   "outputs": [],
   "source": [
    "#see the ten states reporting the highest percentage of serious mental illness\n",
    "seriousMH= mental_illness.head(10)\n",
    "seriousMH.style.format({'Adults Reporting Any Mental Illness in the Past Year': \"{:.2%}\",'Adults Reporting Serious Mental Illness in the Past Year': \"{:.2%}\"})"
   ]
  },
  {
   "cell_type": "code",
   "execution_count": 77,
   "metadata": {},
   "outputs": [],
   "source": [
    "#lets see the connection between serious mental illness and happiness, and also between serious mental illness % reported and overdose deaths \n",
    "\n",
    "MH_Happy = pd.merge(seriousMH, reversed_happy, on = 'State', how = 'inner')\n",
    "MH_Happy = MH_Happy[['State', 'MH_Rank', 'least_happy']]\n",
    "\n",
    "MH_Deaths =  pd.merge(seriousMH, opioid_sum, on = 'State', how = 'inner')\n",
    "MH_Deaths = MH_Deaths[['State', 'MH_Rank', 'death_rank']]\n"
   ]
  },
  {
   "cell_type": "code",
   "execution_count": 78,
   "metadata": {},
   "outputs": [
    {
     "data": {
      "text/html": [
       "<div>\n",
       "<style scoped>\n",
       "    .dataframe tbody tr th:only-of-type {\n",
       "        vertical-align: middle;\n",
       "    }\n",
       "\n",
       "    .dataframe tbody tr th {\n",
       "        vertical-align: top;\n",
       "    }\n",
       "\n",
       "    .dataframe thead th {\n",
       "        text-align: right;\n",
       "    }\n",
       "</style>\n",
       "<table border=\"1\" class=\"dataframe\">\n",
       "  <thead>\n",
       "    <tr style=\"text-align: right;\">\n",
       "      <th></th>\n",
       "      <th>State</th>\n",
       "      <th>MH_Rank</th>\n",
       "      <th>death_rank</th>\n",
       "    </tr>\n",
       "  </thead>\n",
       "  <tbody>\n",
       "    <tr>\n",
       "      <th>0</th>\n",
       "      <td>West Virginia</td>\n",
       "      <td>4</td>\n",
       "      <td>2</td>\n",
       "    </tr>\n",
       "    <tr>\n",
       "      <th>1</th>\n",
       "      <td>Ohio</td>\n",
       "      <td>5</td>\n",
       "      <td>6</td>\n",
       "    </tr>\n",
       "  </tbody>\n",
       "</table>\n",
       "</div>"
      ],
      "text/plain": [
       "           State  MH_Rank  death_rank\n",
       "0  West Virginia        4           2\n",
       "1           Ohio        5           6"
      ]
     },
     "metadata": {},
     "output_type": "display_data"
    },
    {
     "data": {
      "text/html": [
       "<div>\n",
       "<style scoped>\n",
       "    .dataframe tbody tr th:only-of-type {\n",
       "        vertical-align: middle;\n",
       "    }\n",
       "\n",
       "    .dataframe tbody tr th {\n",
       "        vertical-align: top;\n",
       "    }\n",
       "\n",
       "    .dataframe thead th {\n",
       "        text-align: right;\n",
       "    }\n",
       "</style>\n",
       "<table border=\"1\" class=\"dataframe\">\n",
       "  <thead>\n",
       "    <tr style=\"text-align: right;\">\n",
       "      <th></th>\n",
       "      <th>State</th>\n",
       "      <th>MH_Rank</th>\n",
       "      <th>least_happy</th>\n",
       "    </tr>\n",
       "  </thead>\n",
       "  <tbody>\n",
       "    <tr>\n",
       "      <th>0</th>\n",
       "      <td>Arkansas</td>\n",
       "      <td>2</td>\n",
       "      <td>2</td>\n",
       "    </tr>\n",
       "    <tr>\n",
       "      <th>1</th>\n",
       "      <td>West Virginia</td>\n",
       "      <td>4</td>\n",
       "      <td>1</td>\n",
       "    </tr>\n",
       "    <tr>\n",
       "      <th>2</th>\n",
       "      <td>Oklahoma</td>\n",
       "      <td>7</td>\n",
       "      <td>5</td>\n",
       "    </tr>\n",
       "  </tbody>\n",
       "</table>\n",
       "</div>"
      ],
      "text/plain": [
       "           State  MH_Rank  least_happy\n",
       "0       Arkansas        2            2\n",
       "1  West Virginia        4            1\n",
       "2       Oklahoma        7            5"
      ]
     },
     "metadata": {},
     "output_type": "display_data"
    }
   ],
   "source": [
    "#display the output of these merged dataframes in one output \n",
    "from IPython.display import display, HTML\n",
    "css = \"\"\"\n",
    ".output {\n",
    "    flex-direction: row;\n",
    "}\n",
    "\"\"\"\n",
    "HTML('<style>{}</style>'.format(css))\n",
    "#try it out\n",
    "display(MH_Deaths)\n",
    "display(MH_Happy)"
   ]
  },
  {
   "cell_type": "markdown",
   "metadata": {},
   "source": [
    "observation: 3 states are shared between the most unhappy and highest percentage of serious mental illness, 2 states are shared between the highest death rate via opioids and highestpercentage of serious mental illness reported. Mote West virginia appears in both. "
   ]
  },
  {
   "cell_type": "code",
   "execution_count": 104,
   "metadata": {},
   "outputs": [
    {
     "data": {
      "text/plain": [
       "Index(['index_x', 'State',\n",
       "       'Adults Reporting Any Mental Illness in the Past Year',\n",
       "       'Adults Reporting Serious Mental Illness in the Past Year', 'MH_Rank',\n",
       "       'index_y', 'Opioid Overdose Death Rate (Age-Adjusted)',\n",
       "       'All Drug Overdose Death Rate (Age-Adjusted)', 'death_rank'],\n",
       "      dtype='object')"
      ]
     },
     "execution_count": 104,
     "metadata": {},
     "output_type": "execute_result"
    }
   ],
   "source": [
    "#merge all overdoes with all death rates so we can create a scatterplot below\n",
    "MH_Death_corr =pd.merge(mental_illness, opioids_sort, on = 'State', how = 'inner')\n",
    "#view column names for scatterplot purposes below\n",
    "MH_Death_corr.columns"
   ]
  },
  {
   "cell_type": "code",
   "execution_count": 105,
   "metadata": {},
   "outputs": [
    {
     "data": {
      "image/png": "[encoded data removed]",
      "text/plain": [
       "<Figure size 432x288 with 1 Axes>"
      ]
     },
     "metadata": {
      "needs_background": "light"
     },
     "output_type": "display_data"
    }
   ],
   "source": [
    "##Visualization #1: \n",
    "##Overall Correlation between mental illness rankings and death rankings \n",
    "\n",
    "import seaborn as sns\n",
    "sns.scatterplot(x=\"Opioid Overdose Death Rate (Age-Adjusted)\", y=\"Adults Reporting Serious Mental Illness in the Past Year\", data=MH_Death_corr);"
   ]
  },
  {
   "cell_type": "code",
   "execution_count": null,
   "metadata": {},
   "outputs": [],
   "source": [
    "sns.scatterplot(x=\"Opioid Overdose Death Rate (Age-Adjusted)\", y=\"\", data=MH_Death_corr);"
   ]
  },
  {
   "cell_type": "markdown",
   "metadata": {},
   "source": [
    "Looking above, there doesnt seem to be any major correlation. I would have expected more linear results here.  No results are still results! "
   ]
  },
  {
   "cell_type": "code",
   "execution_count": null,
   "metadata": {},
   "outputs": [],
   "source": [
    "sns.scatterplot(x=\"MH_Rank\", y=\"Opioid Overdose Death Rate (Age-Adjusted)\", data=MH_Death_corr);"
   ]
  },
  {
   "cell_type": "markdown",
   "metadata": {},
   "source": [
    "## 4. Naloxone Access: \n",
    "use data from: https://preventionsolutions.edc.org/services/resources/state-naloxone-access-laws\n",
    "to find which states have the least strict restrictions on obtaining naloxone \n",
    "Specifically, we want to know what states don't require a prescription to get naloxone at a pharmacy"
   ]
  },
  {
   "cell_type": "code",
   "execution_count": 90,
   "metadata": {},
   "outputs": [],
   "source": [
    "#next we want to know what states do not require a prescription to get naloxone at a pharmacy \n",
    "#import packages \n",
    "#parse the text \n",
    "import pandas as pd \n",
    "import requests \n",
    "from bs4 import BeautifulSoup \n",
    "import re\n",
    "from collections import Counter\n",
    "import urllib.request\n",
    "\n",
    "url = 'https://preventionsolutions.edc.org/services/resources/state-naloxone-access-laws'\n",
    "response = requests.get(url)\n",
    "soup = BeautifulSoup(response.text, 'html.parser')"
   ]
  },
  {
   "cell_type": "code",
   "execution_count": 91,
   "metadata": {},
   "outputs": [
    {
     "name": "stdout",
     "output_type": "stream",
     "text": [
      "Permission for pharmacists to dispense naloxone to individuals without a prescription\n",
      " Eight states—California, Kentucky, New Hampshire, New Mexico, New York, Rhode Island, Vermont, and Washington state allow this.\n"
     ]
    }
   ],
   "source": [
    "#get the information we desire from the HTML (the states that dont require a prescription for naloxone)\n",
    "#see the formatting \n",
    "title = (soup.find(text=re.compile('Permission for pharmacists')))\n",
    "states = (soup.find(text=re.compile('Eight')))\n",
    "print(title,states)"
   ]
  },
  {
   "cell_type": "code",
   "execution_count": 92,
   "metadata": {},
   "outputs": [],
   "source": [
    "#create a function to print out the output of what states require no prescription \n",
    "from IPython.display import Markdown, display\n",
    "def printmd(string):\n",
    "    display(Markdown(string))"
   ]
  },
  {
   "cell_type": "code",
   "execution_count": null,
   "metadata": {},
   "outputs": [],
   "source": [
    "#test function with outout variable for the information about naloxone states \n",
    "output = (\"%s : %s\"%(title,states))\n",
    "printmd(output)"
   ]
  },
  {
   "cell_type": "code",
   "execution_count": 93,
   "metadata": {},
   "outputs": [],
   "source": [
    "#we want the eight states that allow for pharmacists to dispense naloxone without a prescription in a list \n",
    "#unfortunately, this will require renaming the first and last items in the list after we split the states item by comma \n",
    "statelist = states.split(\",\")\n",
    "\n",
    "#getting \"California\" on its own \n",
    "state1 = statelist[0]\n",
    "state1 \n",
    "#use split transforamtion \n",
    "state1 = state1.split(\"—\")\n",
    "state1\n",
    "first = state1[1]"
   ]
  },
  {
   "cell_type": "code",
   "execution_count": null,
   "metadata": {},
   "outputs": [],
   "source": [
    "#getting \"Washington\" on its own \n",
    "state8 = statelist[7]\n",
    "state8\n",
    "#use split transformation \n",
    "last = state8.split()\n",
    "last = last[1]"
   ]
  },
  {
   "cell_type": "code",
   "execution_count": 94,
   "metadata": {},
   "outputs": [
    {
     "data": {
      "text/plain": [
       "['Kentucky',\n",
       " 'New Hampshire',\n",
       " 'New Mexico',\n",
       " 'New York',\n",
       " 'Rhode Island',\n",
       " 'Vermont',\n",
       " 'Washington',\n",
       " 'California']"
      ]
     },
     "execution_count": 94,
     "metadata": {},
     "output_type": "execute_result"
    }
   ],
   "source": [
    "#join the other 6 states with washington and california to get our list of 8 states \n",
    "#append first and last to the other states \n",
    "abridged = statelist[1:7:1]\n",
    "abridged.append(last)\n",
    "abridged\n",
    "abridged.append(first)\n",
    "abridged2 = [x.strip(' ') for x in abridged]\n",
    "abridged2"
   ]
  },
  {
   "cell_type": "code",
   "execution_count": 95,
   "metadata": {},
   "outputs": [
    {
     "name": "stdout",
     "output_type": "stream",
     "text": [
      "Permission for pharmacists to dispense naloxone to individuals without a prescription\n",
      " : [' Kentucky', ' New Hampshire', ' New Mexico', ' New York', ' Rhode Island', ' Vermont', 'Washington', 'California']\n"
     ]
    }
   ],
   "source": [
    "#print a new summary of the states: \n",
    "print(title,\":\",abridged)"
   ]
  },
  {
   "cell_type": "code",
   "execution_count": 96,
   "metadata": {},
   "outputs": [
    {
     "data": {
      "text/html": [
       "<div>\n",
       "<style scoped>\n",
       "    .dataframe tbody tr th:only-of-type {\n",
       "        vertical-align: middle;\n",
       "    }\n",
       "\n",
       "    .dataframe tbody tr th {\n",
       "        vertical-align: top;\n",
       "    }\n",
       "\n",
       "    .dataframe thead th {\n",
       "        text-align: right;\n",
       "    }\n",
       "</style>\n",
       "<table border=\"1\" class=\"dataframe\">\n",
       "  <thead>\n",
       "    <tr style=\"text-align: right;\">\n",
       "      <th></th>\n",
       "      <th>State</th>\n",
       "    </tr>\n",
       "  </thead>\n",
       "  <tbody>\n",
       "    <tr>\n",
       "      <th>0</th>\n",
       "      <td>Kentucky</td>\n",
       "    </tr>\n",
       "    <tr>\n",
       "      <th>1</th>\n",
       "      <td>New Hampshire</td>\n",
       "    </tr>\n",
       "    <tr>\n",
       "      <th>2</th>\n",
       "      <td>New Mexico</td>\n",
       "    </tr>\n",
       "    <tr>\n",
       "      <th>3</th>\n",
       "      <td>New York</td>\n",
       "    </tr>\n",
       "    <tr>\n",
       "      <th>4</th>\n",
       "      <td>Rhode Island</td>\n",
       "    </tr>\n",
       "    <tr>\n",
       "      <th>5</th>\n",
       "      <td>Vermont</td>\n",
       "    </tr>\n",
       "    <tr>\n",
       "      <th>6</th>\n",
       "      <td>Washington</td>\n",
       "    </tr>\n",
       "    <tr>\n",
       "      <th>7</th>\n",
       "      <td>California</td>\n",
       "    </tr>\n",
       "  </tbody>\n",
       "</table>\n",
       "</div>"
      ],
      "text/plain": [
       "           State\n",
       "0       Kentucky\n",
       "1  New Hampshire\n",
       "2     New Mexico\n",
       "3       New York\n",
       "4   Rhode Island\n",
       "5        Vermont\n",
       "6     Washington\n",
       "7     California"
      ]
     },
     "execution_count": 96,
     "metadata": {},
     "output_type": "execute_result"
    }
   ],
   "source": [
    "#put the list of states into a dataframe, make state column so it can be merged with other data\n",
    "naloxonelist = pd.DataFrame(abridged2, columns = ['State'])\n",
    "naloxonelist"
   ]
  },
  {
   "cell_type": "code",
   "execution_count": 97,
   "metadata": {},
   "outputs": [
    {
     "data": {
      "text/html": [
       "<div>\n",
       "<style scoped>\n",
       "    .dataframe tbody tr th:only-of-type {\n",
       "        vertical-align: middle;\n",
       "    }\n",
       "\n",
       "    .dataframe tbody tr th {\n",
       "        vertical-align: top;\n",
       "    }\n",
       "\n",
       "    .dataframe thead th {\n",
       "        text-align: right;\n",
       "    }\n",
       "</style>\n",
       "<table border=\"1\" class=\"dataframe\">\n",
       "  <thead>\n",
       "    <tr style=\"text-align: right;\">\n",
       "      <th></th>\n",
       "      <th>State</th>\n",
       "      <th>index</th>\n",
       "      <th>Total Score</th>\n",
       "      <th>Emotional &amp; Physical Well Being</th>\n",
       "      <th>Work Environment</th>\n",
       "      <th>Community &amp; Environment</th>\n",
       "      <th>Happy_Rank</th>\n",
       "      <th>least_happy</th>\n",
       "    </tr>\n",
       "  </thead>\n",
       "  <tbody>\n",
       "    <tr>\n",
       "      <th>0</th>\n",
       "      <td>Kentucky</td>\n",
       "      <td>43</td>\n",
       "      <td>39.42</td>\n",
       "      <td>48</td>\n",
       "      <td>19</td>\n",
       "      <td>19</td>\n",
       "      <td>44</td>\n",
       "      <td>7</td>\n",
       "    </tr>\n",
       "    <tr>\n",
       "      <th>1</th>\n",
       "      <td>New Hampshire</td>\n",
       "      <td>23</td>\n",
       "      <td>52.37</td>\n",
       "      <td>23</td>\n",
       "      <td>27</td>\n",
       "      <td>31</td>\n",
       "      <td>24</td>\n",
       "      <td>27</td>\n",
       "    </tr>\n",
       "    <tr>\n",
       "      <th>2</th>\n",
       "      <td>New Mexico</td>\n",
       "      <td>40</td>\n",
       "      <td>43.35</td>\n",
       "      <td>39</td>\n",
       "      <td>47</td>\n",
       "      <td>35</td>\n",
       "      <td>41</td>\n",
       "      <td>10</td>\n",
       "    </tr>\n",
       "    <tr>\n",
       "      <th>3</th>\n",
       "      <td>New York</td>\n",
       "      <td>14</td>\n",
       "      <td>57.35</td>\n",
       "      <td>5</td>\n",
       "      <td>42</td>\n",
       "      <td>39</td>\n",
       "      <td>15</td>\n",
       "      <td>36</td>\n",
       "    </tr>\n",
       "    <tr>\n",
       "      <th>4</th>\n",
       "      <td>Rhode Island</td>\n",
       "      <td>30</td>\n",
       "      <td>50.44</td>\n",
       "      <td>30</td>\n",
       "      <td>31</td>\n",
       "      <td>29</td>\n",
       "      <td>31</td>\n",
       "      <td>20</td>\n",
       "    </tr>\n",
       "    <tr>\n",
       "      <th>5</th>\n",
       "      <td>Vermont</td>\n",
       "      <td>37</td>\n",
       "      <td>48.18</td>\n",
       "      <td>26</td>\n",
       "      <td>23</td>\n",
       "      <td>48</td>\n",
       "      <td>38</td>\n",
       "      <td>13</td>\n",
       "    </tr>\n",
       "    <tr>\n",
       "      <th>6</th>\n",
       "      <td>Washington</td>\n",
       "      <td>16</td>\n",
       "      <td>56.44</td>\n",
       "      <td>29</td>\n",
       "      <td>5</td>\n",
       "      <td>9</td>\n",
       "      <td>17</td>\n",
       "      <td>34</td>\n",
       "    </tr>\n",
       "    <tr>\n",
       "      <th>7</th>\n",
       "      <td>California</td>\n",
       "      <td>4</td>\n",
       "      <td>63.14</td>\n",
       "      <td>4</td>\n",
       "      <td>24</td>\n",
       "      <td>12</td>\n",
       "      <td>5</td>\n",
       "      <td>46</td>\n",
       "    </tr>\n",
       "  </tbody>\n",
       "</table>\n",
       "</div>"
      ],
      "text/plain": [
       "           State  index  Total Score  Emotional & Physical Well Being  \\\n",
       "0       Kentucky     43        39.42                               48   \n",
       "1  New Hampshire     23        52.37                               23   \n",
       "2     New Mexico     40        43.35                               39   \n",
       "3       New York     14        57.35                                5   \n",
       "4   Rhode Island     30        50.44                               30   \n",
       "5        Vermont     37        48.18                               26   \n",
       "6     Washington     16        56.44                               29   \n",
       "7     California      4        63.14                                4   \n",
       "\n",
       "   Work Environment  Community & Environment  Happy_Rank  least_happy  \n",
       "0                19                       19          44            7  \n",
       "1                27                       31          24           27  \n",
       "2                47                       35          41           10  \n",
       "3                42                       39          15           36  \n",
       "4                31                       29          31           20  \n",
       "5                23                       48          38           13  \n",
       "6                 5                        9          17           34  \n",
       "7                24                       12           5           46  "
      ]
     },
     "execution_count": 97,
     "metadata": {},
     "output_type": "execute_result"
    }
   ],
   "source": [
    "#first merge naloxone data with happiness data, then add in death data \n",
    "happy_naloxone =  pd.merge(naloxonelist, reverse_happy, on = 'State', how = 'inner')\n",
    "happy_naloxone"
   ]
  },
  {
   "cell_type": "code",
   "execution_count": 98,
   "metadata": {},
   "outputs": [],
   "source": [
    "#merge naloxone happiness data with State death Rates from opioid Drug overdose \n",
    "bigjoin = pd.merge(happy_naloxone,mental_illness, on = 'State', how = 'inner')\n",
    "bigjoin2 = pd.merge(bigjoin, opioids_sort, on = 'State', how = 'inner')"
   ]
  },
  {
   "cell_type": "code",
   "execution_count": 99,
   "metadata": {},
   "outputs": [
    {
     "data": {
      "text/html": [
       "<div>\n",
       "<style scoped>\n",
       "    .dataframe tbody tr th:only-of-type {\n",
       "        vertical-align: middle;\n",
       "    }\n",
       "\n",
       "    .dataframe tbody tr th {\n",
       "        vertical-align: top;\n",
       "    }\n",
       "\n",
       "    .dataframe thead th {\n",
       "        text-align: right;\n",
       "    }\n",
       "</style>\n",
       "<table border=\"1\" class=\"dataframe\">\n",
       "  <thead>\n",
       "    <tr style=\"text-align: right;\">\n",
       "      <th></th>\n",
       "      <th>State</th>\n",
       "      <th>Happy_Rank</th>\n",
       "      <th>MH_Rank</th>\n",
       "      <th>death_rank</th>\n",
       "      <th>Opioid Overdose Death Rate (Age-Adjusted)</th>\n",
       "    </tr>\n",
       "  </thead>\n",
       "  <tbody>\n",
       "    <tr>\n",
       "      <th>0</th>\n",
       "      <td>Kentucky</td>\n",
       "      <td>44</td>\n",
       "      <td>15</td>\n",
       "      <td>12</td>\n",
       "      <td>24.6</td>\n",
       "    </tr>\n",
       "    <tr>\n",
       "      <th>1</th>\n",
       "      <td>New Hampshire</td>\n",
       "      <td>24</td>\n",
       "      <td>42</td>\n",
       "      <td>7</td>\n",
       "      <td>29.1</td>\n",
       "    </tr>\n",
       "    <tr>\n",
       "      <th>2</th>\n",
       "      <td>New Mexico</td>\n",
       "      <td>41</td>\n",
       "      <td>39</td>\n",
       "      <td>16</td>\n",
       "      <td>20.0</td>\n",
       "    </tr>\n",
       "    <tr>\n",
       "      <th>3</th>\n",
       "      <td>New York</td>\n",
       "      <td>15</td>\n",
       "      <td>51</td>\n",
       "      <td>28</td>\n",
       "      <td>14.9</td>\n",
       "    </tr>\n",
       "    <tr>\n",
       "      <th>4</th>\n",
       "      <td>Rhode Island</td>\n",
       "      <td>31</td>\n",
       "      <td>31</td>\n",
       "      <td>14</td>\n",
       "      <td>23.3</td>\n",
       "    </tr>\n",
       "    <tr>\n",
       "      <th>5</th>\n",
       "      <td>Vermont</td>\n",
       "      <td>38</td>\n",
       "      <td>23</td>\n",
       "      <td>15</td>\n",
       "      <td>20.7</td>\n",
       "    </tr>\n",
       "    <tr>\n",
       "      <th>6</th>\n",
       "      <td>Washington</td>\n",
       "      <td>17</td>\n",
       "      <td>13</td>\n",
       "      <td>34</td>\n",
       "      <td>10.5</td>\n",
       "    </tr>\n",
       "    <tr>\n",
       "      <th>7</th>\n",
       "      <td>California</td>\n",
       "      <td>5</td>\n",
       "      <td>48</td>\n",
       "      <td>39</td>\n",
       "      <td>7.9</td>\n",
       "    </tr>\n",
       "  </tbody>\n",
       "</table>\n",
       "</div>"
      ],
      "text/plain": [
       "           State  Happy_Rank  MH_Rank  death_rank  \\\n",
       "0       Kentucky          44       15          12   \n",
       "1  New Hampshire          24       42           7   \n",
       "2     New Mexico          41       39          16   \n",
       "3       New York          15       51          28   \n",
       "4   Rhode Island          31       31          14   \n",
       "5        Vermont          38       23          15   \n",
       "6     Washington          17       13          34   \n",
       "7     California           5       48          39   \n",
       "\n",
       "   Opioid Overdose Death Rate (Age-Adjusted)  \n",
       "0                                       24.6  \n",
       "1                                       29.1  \n",
       "2                                       20.0  \n",
       "3                                       14.9  \n",
       "4                                       23.3  \n",
       "5                                       20.7  \n",
       "6                                       10.5  \n",
       "7                                        7.9  "
      ]
     },
     "execution_count": 99,
     "metadata": {},
     "output_type": "execute_result"
    }
   ],
   "source": [
    "#view\n",
    "naloxone_states = bigjoin2[['State', 'Happy_Rank','MH_Rank', 'death_rank','Opioid Overdose Death Rate (Age-Adjusted)']]\n",
    "naloxone_states"
   ]
  },
  {
   "cell_type": "code",
   "execution_count": null,
   "metadata": {},
   "outputs": [],
   "source": [
    "#next we are going to recreate the same summary table but with the states that do not allow individuals to get naloxone from a pharmacy without an rx  \n",
    "no_naloxone_states2 = pd.merge(reverse_happy,mental_illness, on = 'State', how = 'inner')\n",
    "no_naloxone_states1 = pd.merge(no_naloxone_states2, opioids_sort, on = 'State', how = 'inner')\n",
    "no_naloxone_states3 = no_naloxone_states1[['State', 'Happy_Rank','MH_Rank', 'death_rank', 'Opioid Overdose Death Rate (Age-Adjusted)']]\n",
    "no_naloxone_states = pd.merge(no_naloxone_states3, naloxonelist, on ='State', how = 'outer')"
   ]
  },
  {
   "cell_type": "code",
   "execution_count": null,
   "metadata": {},
   "outputs": [],
   "source": [
    "#use drop function to drop the states that are shared between our merged all states table and naloxone table to just leave us with the states not on our naloxone list \n",
    "cond = no_naloxone_states['State'].isin(naloxone_states['State'])\n",
    "no_naloxone_states.drop(no_naloxone_states[cond].index, inplace = True)"
   ]
  },
  {
   "cell_type": "code",
   "execution_count": null,
   "metadata": {},
   "outputs": [],
   "source": [
    "#find averages of each column between non- naloxone and naloxone list states \n",
    "nalox_avg = naloxone_states.mean(axis=0)\n",
    "nalox_avg \n",
    "no_nalox_avg = no_naloxone_states.mean(axis=0)\n",
    "no_nalox_avg\n",
    "display(no_nalox_avg) \n",
    "display(nalox_avg)"
   ]
  },
  {
   "cell_type": "markdown",
   "metadata": {},
   "source": [
    "to reiterate: \n",
    "- A higher rank of happiness means more people are unhappy. \n",
    "no naloxone states are \"happier\" on average than the states allowing it without a prescription (but its not a major difference) \n",
    "- A higher rank of MH means that less people are mentally ill. \n",
    "less people in the states allowing naloxone are reporting as seriously mentally ill \n",
    "- A higher rank of death means less peopld are dying from opioid overdose.\n",
    "states that allow naloxone on average have more deaths still from opioid overdose than those who are not on the list \n",
    "\n",
    "when comparing these averages we must consider how much larger the \"non-naloxone\" list is so the averages are likely skewed. \n"
   ]
  },
  {
   "cell_type": "code",
   "execution_count": null,
   "metadata": {},
   "outputs": [],
   "source": [
    "all_states = no_naloxone_states1[['State', 'Happy_Rank','least_happy','MH_Rank', 'death_rank']]\n",
    "#make a pivot table to aggregate data so we can soon see average ranking of most opioid deaths, least happy, and highest mental health issues reported \n",
    "import numpy as np \n",
    "state_ranks=all_states.pivot_table(\n",
    "    values=['death_rank','MH_Rank','least_happy'],\n",
    "    index= 'State',\n",
    "    aggfunc=np.ma.mean)\n",
    "\n",
    "#use pivot table to create column for average ranking overal and find the worst ten states overall and make them a new variable called \"worst states\"\n",
    "state_ranks['average_rank'] = state_ranks.mean(axis=1)\n",
    "average_score = state_ranks.sort_values(by='average_rank')\n",
    "worst_states = average_score.head(10)\n",
    "worst_states\n"
   ]
  },
  {
   "cell_type": "markdown",
   "metadata": {},
   "source": [
    "please note that because a low value is bad for each of these columns, I left it in ascending order to show that a lower ranking overall means on average these states are the most unhappy, report the highest levels of mental health issues, and report the highest death count from opioid overdose "
   ]
  },
  {
   "cell_type": "code",
   "execution_count": null,
   "metadata": {},
   "outputs": [],
   "source": [
    "#use visualizations for worst states to see breakdown "
   ]
  },
  {
   "cell_type": "code",
   "execution_count": 82,
   "metadata": {},
   "outputs": [
    {
     "data": {
      "image/png": "[encoded data removed]",
      "text/plain": [
       "<Figure size 432x288 with 1 Axes>"
      ]
     },
     "metadata": {
      "needs_background": "light"
     },
     "output_type": "display_data"
    }
   ],
   "source": [
    "worst_states.plot(kind='bar')\n",
    "plt.show()"
   ]
  },
  {
   "cell_type": "markdown",
   "metadata": {},
   "source": [
    "this graph shows you the order of worst states in our list of ten (notice how other bars change as red increases)"
   ]
  },
  {
   "cell_type": "code",
   "execution_count": 83,
   "metadata": {},
   "outputs": [
    {
     "data": {
      "text/plain": [
       "<matplotlib.axes._subplots.AxesSubplot at 0x7f6a09494e80>"
      ]
     },
     "execution_count": 83,
     "metadata": {},
     "output_type": "execute_result"
    },
    {
     "data": {
      "image/png": "[encoded data removed]",
      "text/plain": [
       "<Figure size 1440x360 with 1 Axes>"
      ]
     },
     "metadata": {
      "needs_background": "light"
     },
     "output_type": "display_data"
    }
   ],
   "source": [
    "worst_states.plot.bar(y = ['MH_Rank', 'death_rank', 'least_happy'], title = 'Worst States Ranking', figsize = (20,5))"
   ]
  },
  {
   "cell_type": "markdown",
   "metadata": {},
   "source": [
    "This graph shows which scores really pulled a state into our \"worst list\" -- note LOWER bars have more weight in pulling the state to this list since a low average in this case is bad for our rankings. \n",
    "\n",
    "Note that the high bars actuallly mean a BETTER ranking - for exmaple, arkansas has low death rate for opipiods compared to other states but it ranks high in its number of adults with mental illness and also scored low on happiness sxore datat so its average score is still low, making it one of our \"worst states\". "
   ]
  },
  {
   "cell_type": "code",
   "execution_count": 84,
   "metadata": {},
   "outputs": [],
   "source": [
    "#create a merge to see which states are both naloxone available and on the worst ranking average for most deaths, worst mental health, and least happy. \n",
    "average_nalox = pd.merge(worst_states,naloxonelist, on= 'State', how = 'inner')"
   ]
  },
  {
   "cell_type": "code",
   "execution_count": 85,
   "metadata": {},
   "outputs": [
    {
     "data": {
      "text/html": [
       "<div>\n",
       "<style scoped>\n",
       "    .dataframe tbody tr th:only-of-type {\n",
       "        vertical-align: middle;\n",
       "    }\n",
       "\n",
       "    .dataframe tbody tr th {\n",
       "        vertical-align: top;\n",
       "    }\n",
       "\n",
       "    .dataframe thead th {\n",
       "        text-align: right;\n",
       "    }\n",
       "</style>\n",
       "<table border=\"1\" class=\"dataframe\">\n",
       "  <thead>\n",
       "    <tr style=\"text-align: right;\">\n",
       "      <th></th>\n",
       "      <th>State</th>\n",
       "      <th>MH_Rank</th>\n",
       "      <th>death_rank</th>\n",
       "      <th>least_happy</th>\n",
       "      <th>average_rank</th>\n",
       "    </tr>\n",
       "  </thead>\n",
       "  <tbody>\n",
       "    <tr>\n",
       "      <th>0</th>\n",
       "      <td>Kentucky</td>\n",
       "      <td>15</td>\n",
       "      <td>12</td>\n",
       "      <td>7</td>\n",
       "      <td>11.333333</td>\n",
       "    </tr>\n",
       "    <tr>\n",
       "      <th>1</th>\n",
       "      <td>Vermont</td>\n",
       "      <td>23</td>\n",
       "      <td>15</td>\n",
       "      <td>13</td>\n",
       "      <td>17.000000</td>\n",
       "    </tr>\n",
       "  </tbody>\n",
       "</table>\n",
       "</div>"
      ],
      "text/plain": [
       "      State  MH_Rank  death_rank  least_happy  average_rank\n",
       "0  Kentucky       15          12            7     11.333333\n",
       "1   Vermont       23          15           13     17.000000"
      ]
     },
     "execution_count": 85,
     "metadata": {},
     "output_type": "execute_result"
    }
   ],
   "source": [
    "average_nalox"
   ]
  },
  {
   "cell_type": "markdown",
   "metadata": {},
   "source": [
    "NOTE: only 2 out of the 10 states with the lowest average ranking score (highest death rates, highest mental illness rates, and lowest happiness rates) allows for naloxone distribution without a precription.THIS MUST CHANGE to combat our current opioid epidemic in our country! "
   ]
  },
  {
   "cell_type": "code",
   "execution_count": 79,
   "metadata": {},
   "outputs": [
    {
     "name": "stderr",
     "output_type": "stream",
     "text": [
      "/opt/tljh/user/lib/python3.6/site-packages/ipykernel_launcher.py:5: SettingWithCopyWarning: \n",
      "A value is trying to be set on a copy of a slice from a DataFrame.\n",
      "Try using .loc[row_indexer,col_indexer] = value instead\n",
      "\n",
      "See the caveats in the documentation: https://pandas.pydata.org/pandas-docs/stable/user_guide/indexing.html#returning-a-view-versus-a-copy\n",
      "  \"\"\"\n"
     ]
    }
   ],
   "source": [
    "#create naloxone column to specify states on the list or not \n",
    "# merge these two dfs together and sort by death rate (greatest to least)\n",
    "#use this info to create a pivot below\n",
    "no_naloxone_states['naloxone?'] = 'no'\n",
    "naloxone_states['naloxone?'] = 'yes'\n",
    "allstates = (no_naloxone_states, naloxone_states)\n",
    "aggregate_naloxone = pd.concat(allstates) \n",
    "overdose_states = aggregate_naloxone.sort_values(by = 'Opioid Overdose Death Rate (Age-Adjusted)', ascending = False)"
   ]
  },
  {
   "cell_type": "code",
   "execution_count": 80,
   "metadata": {},
   "outputs": [
    {
     "data": {
      "text/html": [
       "<div>\n",
       "<style scoped>\n",
       "    .dataframe tbody tr th:only-of-type {\n",
       "        vertical-align: middle;\n",
       "    }\n",
       "\n",
       "    .dataframe tbody tr th {\n",
       "        vertical-align: top;\n",
       "    }\n",
       "\n",
       "    .dataframe thead tr th {\n",
       "        text-align: left;\n",
       "    }\n",
       "\n",
       "    .dataframe thead tr:last-of-type th {\n",
       "        text-align: right;\n",
       "    }\n",
       "</style>\n",
       "<table border=\"1\" class=\"dataframe\">\n",
       "  <thead>\n",
       "    <tr>\n",
       "      <th></th>\n",
       "      <th colspan=\"3\" halign=\"left\">Opioid Overdose Death Rate (Age-Adjusted)</th>\n",
       "    </tr>\n",
       "    <tr>\n",
       "      <th>naloxone?</th>\n",
       "      <th>no</th>\n",
       "      <th>yes</th>\n",
       "      <th>Total</th>\n",
       "    </tr>\n",
       "    <tr>\n",
       "      <th>State</th>\n",
       "      <th></th>\n",
       "      <th></th>\n",
       "      <th></th>\n",
       "    </tr>\n",
       "  </thead>\n",
       "  <tbody>\n",
       "    <tr>\n",
       "      <th>Alabama</th>\n",
       "      <td>8.900000</td>\n",
       "      <td>NaN</td>\n",
       "      <td>8.900</td>\n",
       "    </tr>\n",
       "    <tr>\n",
       "      <th>Alaska</th>\n",
       "      <td>10.900000</td>\n",
       "      <td>NaN</td>\n",
       "      <td>10.900</td>\n",
       "    </tr>\n",
       "    <tr>\n",
       "      <th>Arizona</th>\n",
       "      <td>18.400000</td>\n",
       "      <td>NaN</td>\n",
       "      <td>18.400</td>\n",
       "    </tr>\n",
       "    <tr>\n",
       "      <th>Arkansas</th>\n",
       "      <td>7.000000</td>\n",
       "      <td>NaN</td>\n",
       "      <td>7.000</td>\n",
       "    </tr>\n",
       "    <tr>\n",
       "      <th>California</th>\n",
       "      <td>NaN</td>\n",
       "      <td>7.900</td>\n",
       "      <td>7.900</td>\n",
       "    </tr>\n",
       "    <tr>\n",
       "      <th>Colorado</th>\n",
       "      <td>10.600000</td>\n",
       "      <td>NaN</td>\n",
       "      <td>10.600</td>\n",
       "    </tr>\n",
       "    <tr>\n",
       "      <th>Connecticut</th>\n",
       "      <td>31.700000</td>\n",
       "      <td>NaN</td>\n",
       "      <td>31.700</td>\n",
       "    </tr>\n",
       "    <tr>\n",
       "      <th>Delaware</th>\n",
       "      <td>43.000000</td>\n",
       "      <td>NaN</td>\n",
       "      <td>43.000</td>\n",
       "    </tr>\n",
       "    <tr>\n",
       "      <th>Florida</th>\n",
       "      <td>18.700000</td>\n",
       "      <td>NaN</td>\n",
       "      <td>18.700</td>\n",
       "    </tr>\n",
       "    <tr>\n",
       "      <th>Georgia</th>\n",
       "      <td>8.200000</td>\n",
       "      <td>NaN</td>\n",
       "      <td>8.200</td>\n",
       "    </tr>\n",
       "    <tr>\n",
       "      <th>Hawaii</th>\n",
       "      <td>3.500000</td>\n",
       "      <td>NaN</td>\n",
       "      <td>3.500</td>\n",
       "    </tr>\n",
       "    <tr>\n",
       "      <th>Idaho</th>\n",
       "      <td>7.600000</td>\n",
       "      <td>NaN</td>\n",
       "      <td>7.600</td>\n",
       "    </tr>\n",
       "    <tr>\n",
       "      <th>Illinois</th>\n",
       "      <td>17.500000</td>\n",
       "      <td>NaN</td>\n",
       "      <td>17.500</td>\n",
       "    </tr>\n",
       "    <tr>\n",
       "      <th>Indiana</th>\n",
       "      <td>19.900000</td>\n",
       "      <td>NaN</td>\n",
       "      <td>19.900</td>\n",
       "    </tr>\n",
       "    <tr>\n",
       "      <th>Iowa</th>\n",
       "      <td>5.400000</td>\n",
       "      <td>NaN</td>\n",
       "      <td>5.400</td>\n",
       "    </tr>\n",
       "    <tr>\n",
       "      <th>Kansas</th>\n",
       "      <td>6.700000</td>\n",
       "      <td>NaN</td>\n",
       "      <td>6.700</td>\n",
       "    </tr>\n",
       "    <tr>\n",
       "      <th>Kentucky</th>\n",
       "      <td>NaN</td>\n",
       "      <td>24.600</td>\n",
       "      <td>24.600</td>\n",
       "    </tr>\n",
       "    <tr>\n",
       "      <th>Louisiana</th>\n",
       "      <td>12.600000</td>\n",
       "      <td>NaN</td>\n",
       "      <td>12.600</td>\n",
       "    </tr>\n",
       "    <tr>\n",
       "      <th>Maine</th>\n",
       "      <td>26.400000</td>\n",
       "      <td>NaN</td>\n",
       "      <td>26.400</td>\n",
       "    </tr>\n",
       "    <tr>\n",
       "      <th>Maryland</th>\n",
       "      <td>34.000000</td>\n",
       "      <td>NaN</td>\n",
       "      <td>34.000</td>\n",
       "    </tr>\n",
       "    <tr>\n",
       "      <th>Massachusetts</th>\n",
       "      <td>28.900000</td>\n",
       "      <td>NaN</td>\n",
       "      <td>28.900</td>\n",
       "    </tr>\n",
       "    <tr>\n",
       "      <th>Michigan</th>\n",
       "      <td>18.500000</td>\n",
       "      <td>NaN</td>\n",
       "      <td>18.500</td>\n",
       "    </tr>\n",
       "    <tr>\n",
       "      <th>Minnesota</th>\n",
       "      <td>7.800000</td>\n",
       "      <td>NaN</td>\n",
       "      <td>7.800</td>\n",
       "    </tr>\n",
       "    <tr>\n",
       "      <th>Mississippi</th>\n",
       "      <td>8.500000</td>\n",
       "      <td>NaN</td>\n",
       "      <td>8.500</td>\n",
       "    </tr>\n",
       "    <tr>\n",
       "      <th>Missouri</th>\n",
       "      <td>18.800000</td>\n",
       "      <td>NaN</td>\n",
       "      <td>18.800</td>\n",
       "    </tr>\n",
       "    <tr>\n",
       "      <th>Montana</th>\n",
       "      <td>7.200000</td>\n",
       "      <td>NaN</td>\n",
       "      <td>7.200</td>\n",
       "    </tr>\n",
       "    <tr>\n",
       "      <th>Nebraska</th>\n",
       "      <td>3.600000</td>\n",
       "      <td>NaN</td>\n",
       "      <td>3.600</td>\n",
       "    </tr>\n",
       "    <tr>\n",
       "      <th>Nevada</th>\n",
       "      <td>11.700000</td>\n",
       "      <td>NaN</td>\n",
       "      <td>11.700</td>\n",
       "    </tr>\n",
       "    <tr>\n",
       "      <th>New Hampshire</th>\n",
       "      <td>NaN</td>\n",
       "      <td>29.100</td>\n",
       "      <td>29.100</td>\n",
       "    </tr>\n",
       "    <tr>\n",
       "      <th>New Jersey</th>\n",
       "      <td>28.400000</td>\n",
       "      <td>NaN</td>\n",
       "      <td>28.400</td>\n",
       "    </tr>\n",
       "    <tr>\n",
       "      <th>New Mexico</th>\n",
       "      <td>NaN</td>\n",
       "      <td>20.000</td>\n",
       "      <td>20.000</td>\n",
       "    </tr>\n",
       "    <tr>\n",
       "      <th>New York</th>\n",
       "      <td>NaN</td>\n",
       "      <td>14.900</td>\n",
       "      <td>14.900</td>\n",
       "    </tr>\n",
       "    <tr>\n",
       "      <th>North Carolina</th>\n",
       "      <td>18.100000</td>\n",
       "      <td>NaN</td>\n",
       "      <td>18.100</td>\n",
       "    </tr>\n",
       "    <tr>\n",
       "      <th>North Dakota</th>\n",
       "      <td>5.900000</td>\n",
       "      <td>NaN</td>\n",
       "      <td>5.900</td>\n",
       "    </tr>\n",
       "    <tr>\n",
       "      <th>Ohio</th>\n",
       "      <td>31.500000</td>\n",
       "      <td>NaN</td>\n",
       "      <td>31.500</td>\n",
       "    </tr>\n",
       "    <tr>\n",
       "      <th>Oklahoma</th>\n",
       "      <td>6.900000</td>\n",
       "      <td>NaN</td>\n",
       "      <td>6.900</td>\n",
       "    </tr>\n",
       "    <tr>\n",
       "      <th>Oregon</th>\n",
       "      <td>7.600000</td>\n",
       "      <td>NaN</td>\n",
       "      <td>7.600</td>\n",
       "    </tr>\n",
       "    <tr>\n",
       "      <th>Pennsylvania</th>\n",
       "      <td>25.100000</td>\n",
       "      <td>NaN</td>\n",
       "      <td>25.100</td>\n",
       "    </tr>\n",
       "    <tr>\n",
       "      <th>Rhode Island</th>\n",
       "      <td>NaN</td>\n",
       "      <td>23.300</td>\n",
       "      <td>23.300</td>\n",
       "    </tr>\n",
       "    <tr>\n",
       "      <th>South Carolina</th>\n",
       "      <td>17.600000</td>\n",
       "      <td>NaN</td>\n",
       "      <td>17.600</td>\n",
       "    </tr>\n",
       "    <tr>\n",
       "      <th>South Dakota</th>\n",
       "      <td>4.500000</td>\n",
       "      <td>NaN</td>\n",
       "      <td>4.500</td>\n",
       "    </tr>\n",
       "    <tr>\n",
       "      <th>Tennessee</th>\n",
       "      <td>23.400000</td>\n",
       "      <td>NaN</td>\n",
       "      <td>23.400</td>\n",
       "    </tr>\n",
       "    <tr>\n",
       "      <th>Texas</th>\n",
       "      <td>5.100000</td>\n",
       "      <td>NaN</td>\n",
       "      <td>5.100</td>\n",
       "    </tr>\n",
       "    <tr>\n",
       "      <th>Utah</th>\n",
       "      <td>13.300000</td>\n",
       "      <td>NaN</td>\n",
       "      <td>13.300</td>\n",
       "    </tr>\n",
       "    <tr>\n",
       "      <th>Vermont</th>\n",
       "      <td>NaN</td>\n",
       "      <td>20.700</td>\n",
       "      <td>20.700</td>\n",
       "    </tr>\n",
       "    <tr>\n",
       "      <th>Virginia</th>\n",
       "      <td>15.100000</td>\n",
       "      <td>NaN</td>\n",
       "      <td>15.100</td>\n",
       "    </tr>\n",
       "    <tr>\n",
       "      <th>Washington</th>\n",
       "      <td>NaN</td>\n",
       "      <td>10.500</td>\n",
       "      <td>10.500</td>\n",
       "    </tr>\n",
       "    <tr>\n",
       "      <th>West Virginia</th>\n",
       "      <td>41.400000</td>\n",
       "      <td>NaN</td>\n",
       "      <td>41.400</td>\n",
       "    </tr>\n",
       "    <tr>\n",
       "      <th>Wisconsin</th>\n",
       "      <td>16.600000</td>\n",
       "      <td>NaN</td>\n",
       "      <td>16.600</td>\n",
       "    </tr>\n",
       "    <tr>\n",
       "      <th>Wyoming</th>\n",
       "      <td>8.300000</td>\n",
       "      <td>NaN</td>\n",
       "      <td>8.300</td>\n",
       "    </tr>\n",
       "    <tr>\n",
       "      <th>Total</th>\n",
       "      <td>15.828571</td>\n",
       "      <td>18.875</td>\n",
       "      <td>16.316</td>\n",
       "    </tr>\n",
       "  </tbody>\n",
       "</table>\n",
       "</div>"
      ],
      "text/plain": [
       "               Opioid Overdose Death Rate (Age-Adjusted)                \n",
       "naloxone?                                             no     yes   Total\n",
       "State                                                                   \n",
       "Alabama                                         8.900000     NaN   8.900\n",
       "Alaska                                         10.900000     NaN  10.900\n",
       "Arizona                                        18.400000     NaN  18.400\n",
       "Arkansas                                        7.000000     NaN   7.000\n",
       "California                                           NaN   7.900   7.900\n",
       "Colorado                                       10.600000     NaN  10.600\n",
       "Connecticut                                    31.700000     NaN  31.700\n",
       "Delaware                                       43.000000     NaN  43.000\n",
       "Florida                                        18.700000     NaN  18.700\n",
       "Georgia                                         8.200000     NaN   8.200\n",
       "Hawaii                                          3.500000     NaN   3.500\n",
       "Idaho                                           7.600000     NaN   7.600\n",
       "Illinois                                       17.500000     NaN  17.500\n",
       "Indiana                                        19.900000     NaN  19.900\n",
       "Iowa                                            5.400000     NaN   5.400\n",
       "Kansas                                          6.700000     NaN   6.700\n",
       "Kentucky                                             NaN  24.600  24.600\n",
       "Louisiana                                      12.600000     NaN  12.600\n",
       "Maine                                          26.400000     NaN  26.400\n",
       "Maryland                                       34.000000     NaN  34.000\n",
       "Massachusetts                                  28.900000     NaN  28.900\n",
       "Michigan                                       18.500000     NaN  18.500\n",
       "Minnesota                                       7.800000     NaN   7.800\n",
       "Mississippi                                     8.500000     NaN   8.500\n",
       "Missouri                                       18.800000     NaN  18.800\n",
       "Montana                                         7.200000     NaN   7.200\n",
       "Nebraska                                        3.600000     NaN   3.600\n",
       "Nevada                                         11.700000     NaN  11.700\n",
       "New Hampshire                                        NaN  29.100  29.100\n",
       "New Jersey                                     28.400000     NaN  28.400\n",
       "New Mexico                                           NaN  20.000  20.000\n",
       "New York                                             NaN  14.900  14.900\n",
       "North Carolina                                 18.100000     NaN  18.100\n",
       "North Dakota                                    5.900000     NaN   5.900\n",
       "Ohio                                           31.500000     NaN  31.500\n",
       "Oklahoma                                        6.900000     NaN   6.900\n",
       "Oregon                                          7.600000     NaN   7.600\n",
       "Pennsylvania                                   25.100000     NaN  25.100\n",
       "Rhode Island                                         NaN  23.300  23.300\n",
       "South Carolina                                 17.600000     NaN  17.600\n",
       "South Dakota                                    4.500000     NaN   4.500\n",
       "Tennessee                                      23.400000     NaN  23.400\n",
       "Texas                                           5.100000     NaN   5.100\n",
       "Utah                                           13.300000     NaN  13.300\n",
       "Vermont                                              NaN  20.700  20.700\n",
       "Virginia                                       15.100000     NaN  15.100\n",
       "Washington                                           NaN  10.500  10.500\n",
       "West Virginia                                  41.400000     NaN  41.400\n",
       "Wisconsin                                      16.600000     NaN  16.600\n",
       "Wyoming                                         8.300000     NaN   8.300\n",
       "Total                                          15.828571  18.875  16.316"
      ]
     },
     "execution_count": 80,
     "metadata": {},
     "output_type": "execute_result"
    }
   ],
   "source": [
    "#make a pivot table to compare totals for opioid overdose death rate from states who allow naloxone with a prescription to those that do not \n",
    "import numpy as np \n",
    "state_ranks=overdose_states.pivot_table(\n",
    "    values=['Opioid Overdose Death Rate (Age-Adjusted)'],\n",
    "    index= 'State',\n",
    "    columns = 'naloxone?',\n",
    "    aggfunc='mean', margins = True, margins_name='Total')\n",
    "state_ranks\n"
   ]
  },
  {
   "cell_type": "code",
   "execution_count": 81,
   "metadata": {},
   "outputs": [
    {
     "data": {
      "image/png": "[encoded data removed]",
      "text/plain": [
       "<Figure size 432x288 with 1 Axes>"
      ]
     },
     "metadata": {
      "needs_background": "light"
     },
     "output_type": "display_data"
    }
   ],
   "source": [
    "#lets try aggregating this data with a group_by instead \n",
    "all_states_bar = pd.concat([no_naloxone_states,naloxone_states], ignore_index=True)\n",
    "compare_states = all_states_bar.groupby('naloxone?')\n",
    "compare_states1 = compare_states.mean()\n",
    "\n",
    "#plot to visualize this data \n",
    "compare_states1.plot(kind = 'bar')\n",
    "\n",
    "plt.show()"
   ]
  },
  {
   "cell_type": "markdown",
   "metadata": {},
   "source": [
    "Looking at this information: we can see average deaths for states without naloxone restriction by prescription have higher rates of opioid overdoes than those states who do not allow individuals to obtain naloxone as easily. This brings me to twp possible conclusions \n",
    "\n",
    "- 1. having readily accessible naloxone allows for drug users to push boundaries with their use as they can more easily prepare others to help them in case of an accidental overdose\n",
    "- 2. Because only 8 states actually have this allowance, it is likely there isn't enough data to say that this average is actually helpful in determining the effects of expanding naloxone access. Additionally, two of the states who rank in the top 10 for overdose deaths are on the list for naloxone allowance without a prescription, so it is possible these states chose to implement this to battle the effects of opioid misuse, but that it has not yet been enough time. \n",
    "- note: in my opinion, even in states where you can get it without a prescription, it is not always widely promoted or talked about in a way that allows for more individuals to learn about how and when to use naloxone for themselves, their loved ones, or eben stangers. \n",
    "\n",
    "While these results may make it appear that naloxone is not a good aid in fighting the opioid crisis, I believe it simply is not prominent enough yet to do an accurate study on its effects in communitys with a high drug -use rate. "
   ]
  },
  {
   "cell_type": "markdown",
   "metadata": {},
   "source": [
    "## Problem Applicability and Summary "
   ]
  },
  {
   "cell_type": "markdown",
   "metadata": {},
   "source": [
    "The purpose of my project was to better understand the data that surrounds the opioid epidemic, and to get a sense of which states face the highest incidences and try to get an understanding about why these states have such high rates.\n",
    "The states that face the highest rate of death due to opioid overdose are: \n",
    "  - ['Delaware',\n",
    " 'West Virginia',\n",
    " 'Maryland',\n",
    " 'District of Columbia',\n",
    " 'Connecticut',\n",
    " 'Ohio',\n",
    " 'New Hampshire',\n",
    " 'Massachusetts',\n",
    " 'New Jersey',\n",
    " 'Maine']\n",
    "\n",
    "\n",
    "After I obtained this list, I compared which states were the in the ten most \"unhappy\" list as well as the highest rates of serious mental illness. \n",
    "West Virginia and Ohio are in the list of highest opioid overdose rate as well as in the top ten for serious mental illness prevalence. West Virigina also ranks in the top ten most unhappy states as well. \n",
    "\n",
    "I used the state data about death rates and happiness along with the knowledge about naloxone laws and how they differ per state. I wanted to see if having naloxone access laws helps to have a decreased amount of fatal overdoses. For example, 8 states have laws that allow for anyone to get naloxone from a pharmacist without a prescription. Unfortunately, as stated above the results of my analysis do not support the idea that easier access to naloxone is correlated with lower deaths from opioid overdose. That said, I firmly believe there is not enoughd data here about states death rates before and after changing their naloxone access standards. I have family members living in the states where you can get naloxone without a prescirption and many of them do not even know what it is or what it does. I think we need to spread naloxone awareness on a nation wide level, as it is hard to see if its really helping when it is only in 8 states. Additioanlly, many of the states on the naloxone list are not those that are in the top ten of overdose deaths due to opioids. New Hampshire is the only state that ranks in the top ten for opioid overdose deaths and also allows for naloxone distribution without a prescritpion. \n",
    "\n",
    "\n",
    "In a real world setting, the purpose of this whole project is to highlight the communities still in most need of resources to battle this very sad epidemic. Next, it is useful to see the connection between depression and anxiety, as well as happiness scores, and how this is correlated with overdose fatalities. Lastly, the naloxone law comparisons by state aim to show whether or not more states might benefit from implementing these same laws and to draw attention to the usefulness and effectiveness of naloxone distribution as a way to mitigate opioid misuse and fight back against this epidemic. This project is interesting because despite efforts to reduce misuse, the problem has continued to worsen in recent years. This issue is deeply tied to the pharma industry and it's financial gains. The more we know about the causes of this epidemic and the proposed solutions many states are trying, the better chance we have as a nation in saving more lives in the future. A goal of this project is to promote public awareness of the issue and solutions as well. So many people, myself included, have a personal connection to this issue and wish to share with those among them. That is the reason this project would be of interest to many as well. "
   ]
  },
  {
   "cell_type": "code",
   "execution_count": null,
   "metadata": {},
   "outputs": [],
   "source": []
  },
  {
   "cell_type": "code",
   "execution_count": 65,
   "metadata": {},
   "outputs": [
    {
     "name": "stdin",
     "output_type": "stream",
     "text": [
      "\n",
      "Are you ready to submit your work?\n",
      "1. Click the Save icon (or do Ctrl-S / Cmd-S)\n",
      "2. Type \"yes\" or \"no\" below\n",
      "3. Press Enter\n",
      "\n",
      " yes\n"
     ]
    },
    {
     "name": "stdout",
     "output_type": "stream",
     "text": [
      "[main fc9f92f] Submitting the final\n",
      " 2 files changed, 91 insertions(+), 33 deletions(-)\n",
      "Counting objects: 6, done.\n",
      "Delta compression using up to 2 threads.\n",
      "Compressing objects: 100% (5/5), done.\n",
      "Writing objects: 100% (6/6), 1.40 KiB | 1.40 MiB/s, done.\n",
      "Total 6 (delta 3), reused 0 (delta 0)\n",
      "remote: Resolving deltas: 100% (3/3), completed with 3 local objects.\u001b[K\n",
      "To github.com:lillyeversman/hds5210-2022.git\n",
      "   2cade7c..fc9f92f  main -> main\n"
     ]
    }
   ],
   "source": [
    "a=input('''\n",
    "Are you ready to submit your work?\n",
    "1. Click the Save icon (or do Ctrl-S / Cmd-S)\n",
    "2. Type \"yes\" or \"no\" below\n",
    "3. Press Enter\n",
    "\n",
    "''')\n",
    "\n",
    "if a=='yes':\n",
    "    !git add eversman_final.ipynb\n",
    "    !git commit -a -m \"Submitting the final\"\n",
    "    !git push\n",
    "else:\n",
    "    print('''\n",
    "    \n",
    "OK. We can wait.\n",
    "''')"
   ]
  },
  {
   "cell_type": "code",
   "execution_count": null,
   "metadata": {},
   "outputs": [],
   "source": []
  }
 ],
 "metadata": {
  "kernelspec": {
   "display_name": "Python 3",
   "language": "python",
   "name": "python3"
  },
  "language_info": {
   "codemirror_mode": {
    "name": "ipython",
    "version": 3
   },
   "file_extension": ".py",
   "mimetype": "text/x-python",
   "name": "python",
   "nbconvert_exporter": "python",
   "pygments_lexer": "ipython3",
   "version": "3.6.7"
  }
 },
 "nbformat": 4,
 "nbformat_minor": 4
}
