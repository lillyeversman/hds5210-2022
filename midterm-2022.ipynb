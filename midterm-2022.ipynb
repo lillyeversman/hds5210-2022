{
 "cells": [
  {
   "cell_type": "markdown",
   "metadata": {},
   "source": [
    "# HDS5210-2022 Midterm\n",
    "\n",
    "In the midterm, you're going to use all of the programming and data management skills you've developed so far to build a risk calculator that pretends to be integrated with a clinical registry.  You'll compute the PRIEST COVID-19 Clinical Severity Score for a series of patients and, based on their risk of an adverse outcome, query a REST web service to find a hospital to transfer them to. The end result of your work will be a list of instructions on where each patient should be discharged: \"home\" if they are below 30% risk and the recommended hospital if they are at or above 30%.\n",
    "\n",
    "Each step in the midterm will build up to form your final solution. Along the way, I've provided plenty of test cases to make sure that you're getting those steps correct.\n",
    "\n",
    "The midterm is due at 11:59 PM CST on Monday, March 14th.\n",
    "\n",
    "---"
   ]
  },
  {
   "cell_type": "markdown",
   "metadata": {},
   "source": [
    "## Step 1: Calculate PRIEST Clinical Severity Score\n",
    "\n",
    "This scoring algorithm can be found [here on the MDCalc website](https://www.mdcalc.com/priest-covid-19-clinical-severity-score#evidence).  \n",
    "\n",
    "1. You will need to write a function called **priest()** with the following input parameters.  \n",
    " * Sex\n",
    " * Age in years\n",
    " * Respiratory rate in breaths per minute\n",
    " * Oxygen saturation as a percent between 0 and 1\n",
    " * Heart rate in beats per minute\n",
    " * Systolic BP in mmHg\n",
    " * Temperature in degrees C\n",
    " * Alertness as a string description\n",
    " * Inspired Oxygen as as string description\n",
    " * Performance Status as a string description\n",
    "2. The function will need to follow the algorithm provided on the MDCalc website to compute a risk percentage that should be returned as a numeric value between 0 and 1.\n",
    "3. Be sure to use docstring documentation and at least three built-in docstring test cases.\n",
    "4. Assume that the input values that are strings could be any combination of upper or lower case. For example: 'male', 'Male', 'MALE', 'MalE' should all be interpretted by your code as male.\n",
    "5. If any of the inputs are invalid (for example a sex value that is not recognizable as male or female) your code should raise a ValueException that includes a message with the invalid input and which parameter that input was provided as.\n",
    "\n",
    "NOTES:\n",
    "1. In the final step there is a rule to convert form raw score to percentile.  In that conversion, 17-25 maps to 59-88% and ≥26 maps to >99%.  For our purposes, we want these to be specific % number outputs.  Use the following rule:\n",
    " * If score is between 17 and 25, percentile should be 0.59\n",
    " * If score is greater than or equal to 26, percentile should be 0.99\n"
   ]
  },
  {
   "cell_type": "code",
   "execution_count": 1,
   "metadata": {},
   "outputs": [],
   "source": [
    "def priest(sex, age, resp_rate, o2_sat, ht_rate, BP, temp_c, alert, insp_o2, performance):\n",
    "    \"\"\"(str) --->(int)\n",
    "    This function takes the input values for elements of the PRIEST COVID-19 Clinical Severity score\n",
    "    and adds them together before then assigning a percentile/ probability of an adverse outcome\n",
    "    within 30 days based on the raw priest score calculated. That risk percentage output should be \n",
    "    returned as a numeric value between 0 and 1.\n",
    "    \n",
    "    >>> priest(\"FEMALE\",40,24,0.96,105,115,34.9,'ALERT','AIR','unrestricted normal activity')\n",
    "    0.15\n",
    "    \n",
    "    >>> priest(\"female\",18, 24, 0.95, 50, 115, 38.1, \"Confused or Not Alert\", \"AIR\", \"limited self-care\")\n",
    "    0.34\n",
    "    \n",
    "    >>> priest(\"Male\", 80, 23, 0.96,135, 115,38.1,\"ALERT\",\"AIR\",\"unrestricted normal activity\")\n",
    "    0.29\n",
    "    \"\"\"\n",
    "    \n",
    "    ###Begin Solution: \n",
    "    m_f = 0 \n",
    "    m = \"male\"\n",
    "    f = \"female\"\n",
    "    if sex.lower() == m: \n",
    "        m_f = 1 \n",
    "    elif sex.lower() == f: \n",
    "        m_f = 0\n",
    "    elif sex != m or f: \n",
    "        raise ValueError(\"sex must be male or female\")\n",
    "    \n",
    "        \n",
    "    age_score = 0 \n",
    "    if 16<=age<=49: \n",
    "        age_score = 0 \n",
    "    elif 50<=age<=65: \n",
    "        age_score = 2\n",
    "    elif 66<=age<=80: \n",
    "        age_score = 3\n",
    "    else: \n",
    "        age_score = 4\n",
    "    \n",
    "    \n",
    "    respscore = 0 \n",
    "    if resp_rate <9: \n",
    "        respscore = 3 \n",
    "    elif 9<=resp_rate<=11: \n",
    "        respscore = 1 \n",
    "    elif 12<=resp_rate<=20: \n",
    "        respscore = 0\n",
    "    elif 21<=resp_rate<=24:\n",
    "        respscore = 2\n",
    "    else: \n",
    "        respscore = 3 \n",
    "   \n",
    "    \n",
    "    o2 =0 \n",
    "    if o2_sat > .95: \n",
    "        o2 = 0 \n",
    "    elif .94 <=o2_sat<= .95: \n",
    "        o2 = 1\n",
    "    elif .92<=o2_sat<=.93: \n",
    "        o2 = 2\n",
    "    else:\n",
    "        o2 = 3\n",
    "   \n",
    "    \n",
    "    \n",
    "    htscore = 0 \n",
    "    if ht_rate <41: \n",
    "        htscore = 3 \n",
    "    elif 41<=ht_rate<=50:\n",
    "        htscore = 1 \n",
    "    elif 51<=ht_rate<=90: \n",
    "        htscore = 0 \n",
    "    elif 91<=ht_rate<=110: \n",
    "        htscore = 1 \n",
    "    elif 111<=ht_rate<=130:\n",
    "        htscore = 2 \n",
    "    else: \n",
    "        htscore = 3\n",
    "   \n",
    "    \n",
    "    systo=0\n",
    "    if BP < 91: \n",
    "        systo = 3 \n",
    "    elif 91<=BP<=100: \n",
    "        systo = 2\n",
    "    elif 101<=BP<=110: \n",
    "        systo = 1\n",
    "    elif 111<=BP<=219: \n",
    "        systo = 0 \n",
    "    else: \n",
    "        systo = 3\n",
    " \n",
    "    \n",
    "    temp = 0 \n",
    "    if temp_c <35.1:\n",
    "        temp = 3\n",
    "    elif 35.1<=temp_c<=36.0:\n",
    "        temp = 1\n",
    "    elif 36.1<=temp_c<=38.0: \n",
    "        temp = 0\n",
    "    elif 38.1<=temp_c<=39.0: \n",
    "        temp = 1\n",
    "    else: \n",
    "        temp = 2\n",
    " \n",
    "    \n",
    "    a = \"ALERT\"   \n",
    "    level = 0 \n",
    "    if alert.upper() == a: \n",
    "        level = 0 \n",
    "    else: \n",
    "        level = 3 \n",
    "\n",
    "    \n",
    "    \n",
    "    o = \"AIR\"\n",
    "    s = \"SUPPLEMENTAL OXYGEN\"\n",
    "    oxy = 0 \n",
    "    if insp_o2.upper() == o:\n",
    "        oxy = 0\n",
    "    else: \n",
    "        oxy = 2\n",
    "\n",
    "    \n",
    " \n",
    "    \n",
    "    answer = 0 \n",
    "    p1 = \"unrestricted normal activity\"\n",
    "        \n",
    "    p2 =\"limited strenuous activity, can do light activity\"\n",
    "        \n",
    "    p3 =\"limited activity, can self-care\"\n",
    "        \n",
    "    p4 =\"limited self-care\"\n",
    "    \n",
    "    p5 = \"bed/chair bound, no self-care\"\n",
    "    if performance.lower() == p1:\n",
    "        answer = 0 \n",
    "    elif performance.lower() == p2: \n",
    "        answer = 1\n",
    "    elif performance.lower() == p3: \n",
    "        answer = 2 \n",
    "    elif performance.lower() == p4:\n",
    "        answer = 3\n",
    "    elif performance.lower() == p5: \n",
    "        answer = 4 \n",
    "    else: \n",
    "        raise ValueError('must be a string')\n",
    "\n",
    "   \n",
    "    \n",
    "    score = 0 \n",
    "    score = m_f + age_score + respscore + o2 + htscore + systo + temp + level + oxy + answer\n",
    "    \n",
    "    perc = 0 \n",
    "    if 0<=score<=1: \n",
    "        perc = 0.01 \n",
    "    elif 2<=score<=3: \n",
    "        perc = 0.02 \n",
    "    elif score == 4: \n",
    "        perc = 0.03\n",
    "    elif score == 5: \n",
    "        perc = 0.09 \n",
    "    elif score == 6: \n",
    "        perc = 0.15 \n",
    "    elif score == 7: \n",
    "        perc = 0.18 \n",
    "    elif score == 8: \n",
    "        perc = 0.22\n",
    "    elif score == 9: \n",
    "        perc = 0.26 \n",
    "    elif score == 10: \n",
    "        perc = 0.29 \n",
    "    elif score == 11: \n",
    "        perc = 0.34 \n",
    "    elif score == 12: \n",
    "        perc = 0.38 \n",
    "    elif score == 13: \n",
    "        perc = 0.46 \n",
    "    elif score == 14: \n",
    "        perc = 0.47 \n",
    "    elif score == 15: \n",
    "        perc = 0.49 \n",
    "    elif score == 16: \n",
    "        perc = 0.55 \n",
    "    elif 17<=score<=25: \n",
    "        perc = 0.59 \n",
    "    else: \n",
    "        perc = 0.99 \n",
    "    return perc\n",
    "    \n",
    "    \n",
    "    "
   ]
  },
  {
   "cell_type": "code",
   "execution_count": 2,
   "metadata": {},
   "outputs": [
    {
     "name": "stdout",
     "output_type": "stream",
     "text": [
      "Finding tests in NoName\n",
      "Trying:\n",
      "    priest(\"FEMALE\",40,24,0.96,105,115,34.9,'ALERT','AIR','unrestricted normal activity')\n",
      "Expecting:\n",
      "    0.15\n",
      "ok\n",
      "Trying:\n",
      "    priest(\"female\",18, 24, 0.95, 50, 115, 38.1, \"Confused or Not Alert\", \"AIR\", \"limited self-care\")\n",
      "Expecting:\n",
      "    0.34\n",
      "ok\n",
      "Trying:\n",
      "    priest(\"Male\", 80, 23, 0.96,135, 115,38.1,\"ALERT\",\"AIR\",\"unrestricted normal activity\")\n",
      "Expecting:\n",
      "    0.29\n",
      "ok\n"
     ]
    }
   ],
   "source": [
    "import doctest\n",
    "doctest.run_docstring_examples(priest, globals(), verbose=True)\n"
   ]
  },
  {
   "cell_type": "code",
   "execution_count": 3,
   "metadata": {},
   "outputs": [
    {
     "data": {
      "text/plain": [
       "0.34"
      ]
     },
     "execution_count": 3,
     "metadata": {},
     "output_type": "execute_result"
    }
   ],
   "source": [
    "priest(\"female\",50,11,92,92,100,36.1,\"Alert\",\"Supplemental oxygen\",\"Limited self-care\")"
   ]
  },
  {
   "cell_type": "code",
   "execution_count": 4,
   "metadata": {},
   "outputs": [
    {
     "data": {
      "text/plain": [
       "0.29"
      ]
     },
     "execution_count": 4,
     "metadata": {},
     "output_type": "execute_result"
    }
   ],
   "source": [
    "priest(\"Male\", 80, 23, 0.96,135, 115,38.1,\"ALERT\",\"AIR\",\"unrestricted normal activity\")"
   ]
  },
  {
   "cell_type": "code",
   "execution_count": 5,
   "metadata": {},
   "outputs": [
    {
     "data": {
      "text/plain": [
       "0.15"
      ]
     },
     "execution_count": 5,
     "metadata": {},
     "output_type": "execute_result"
    }
   ],
   "source": [
    "priest(\"FEMALE\",40,24,0.96,105,115,34.9,'ALERT','AIR','unrestricted normal activity')"
   ]
  },
  {
   "cell_type": "markdown",
   "metadata": {},
   "source": [
    "## Part 2: Find a hospital\n",
    "\n",
    "The next thing we have to do is figure out where to send this particular patient.  The guidelines on where to send a patient are based on their age (pediatric, adult, geriatric), sex, and risk percentage.  Luckily, you don't have to implement these rules. I already have. All you have to do is use a REST web service that I've created for you.\n",
    "\n",
    "You'll want to use Python to make a call to my REST web service similar to the example URL below. The first part of the URL will be the same for everyone and every request that you make. What you will need to modify for each of your requests is the information after the question mark.\n",
    "\n",
    "```\n",
    "https://oumdj6oci2.execute-api.us-east-1.amazonaws.com/prd/?age=40&sex=male&risk_pct=0.1\n",
    "```\n",
    "\n",
    "The example above asks my web service where a 40-year old male with a risk percetage of 10% should go.  What the web service will return back is a JSON string containing the information you need.  That JSON will look like this:\n",
    "\n",
    "```json\n",
    "{\n",
    "  \"age\": \"40\",\n",
    "  \"sex\": \"male\",\n",
    "  \"risk\": \"0.1\",\n",
    "  \"hospital\": \"Southwest Hospital and Medical Center\"\n",
    "}\n",
    "```\n",
    "\n",
    "1. Your job is to write a function called **find_hospital()** that takes age, sex, and risk as parameters.\n",
    "2. Your function should call this REST web service\n",
    "3. Then your function will need to interpret the JSON it gets and return just the name of the hospital\n",
    "4. If anything fails, return None without raising any exceptions\n",
    "5. Include a good docstring with at least five test cases.\n"
   ]
  },
  {
   "cell_type": "code",
   "execution_count": 6,
   "metadata": {},
   "outputs": [],
   "source": [
    "def find_hospital(age,sex,risk): \n",
    "    \"\"\"This function takes age, sex, and risk as pararemters tehn calles the rest web service provided. The \n",
    "    function then interorets the JSON it gets and returns just the hospital name that the patient \n",
    "    with those input parameters should visit. If there is any failure, the function should return None. \n",
    "    >>> find_hospital(20,\"female\", 0.22)\n",
    "    'Select Specialty Hospital - Northeast Atlanta'\n",
    "    \n",
    "    >>> find_hospital(18,\"female\",0.34)\n",
    "    'Emory Dunwoody Medical Center'\n",
    "    \n",
    "    >>> find_hospital(80,\"male\",0.3)\n",
    "    'Wesley Woods Geriatric Hospital'\n",
    "    \n",
    "    >>> find_hospital(25,\"female\", 0.15)\n",
    "    'Select Specialty Hospital - Northeast Atlanta'\n",
    "    \n",
    "    >>> find_hospital(25,\"male\",0.24)\n",
    "    'Southwest Hospital and Medical Center'\n",
    "    \n",
    "    >>> find_hospital(40,\"female\", 0.67)\n",
    "    'Emory Dunwoody Medical Center'\n",
    "    \"\"\"\n",
    "    import requests \n",
    "    import json \n",
    "    from bs4 import BeautifulSoup \n",
    "    \n",
    "    url = 'https://oumdj6oci2.execute-api.us-east-1.amazonaws.com/prd/?age={age}&sex={sex}&risk_pct={risk}'.format(age = age, sex = sex, risk = risk)\n",
    "    response_API = requests.get(url).json()\n",
    "    data = json.dumps(response_API)\n",
    "    parse_json = json.loads(data)\n",
    "    hospital = parse_json.get('hospital')\n",
    "\n",
    "    return hospital\n",
    "    "
   ]
  },
  {
   "cell_type": "code",
   "execution_count": 7,
   "metadata": {},
   "outputs": [],
   "source": [
    "###testing to see if it returns none or results in key error when an improprer input is used#########\n",
    "find_hospital(18,\"female\",\"cheese\")"
   ]
  },
  {
   "cell_type": "code",
   "execution_count": 8,
   "metadata": {},
   "outputs": [
    {
     "data": {
      "text/plain": [
       "'Emory Dunwoody Medical Center'"
      ]
     },
     "execution_count": 8,
     "metadata": {},
     "output_type": "execute_result"
    }
   ],
   "source": [
    "find_hospital(18,\"female\", 0.4)"
   ]
  },
  {
   "cell_type": "code",
   "execution_count": 9,
   "metadata": {},
   "outputs": [
    {
     "name": "stdout",
     "output_type": "stream",
     "text": [
      "Finding tests in NoName\n",
      "Trying:\n",
      "    find_hospital(20,\"female\", 0.22)\n",
      "Expecting:\n",
      "    'Select Specialty Hospital - Northeast Atlanta'\n",
      "ok\n",
      "Trying:\n",
      "    find_hospital(18,\"female\",0.34)\n",
      "Expecting:\n",
      "    'Emory Dunwoody Medical Center'\n",
      "ok\n",
      "Trying:\n",
      "    find_hospital(80,\"male\",0.3)\n",
      "Expecting:\n",
      "    'Wesley Woods Geriatric Hospital'\n",
      "ok\n",
      "Trying:\n",
      "    find_hospital(25,\"female\", 0.15)\n",
      "Expecting:\n",
      "    'Select Specialty Hospital - Northeast Atlanta'\n",
      "ok\n",
      "Trying:\n",
      "    find_hospital(25,\"male\",0.24)\n",
      "Expecting:\n",
      "    'Southwest Hospital and Medical Center'\n",
      "ok\n",
      "Trying:\n",
      "    find_hospital(40,\"female\", 0.67)\n",
      "Expecting:\n",
      "    'Emory Dunwoody Medical Center'\n",
      "ok\n"
     ]
    }
   ],
   "source": [
    "import doctest\n",
    "doctest.run_docstring_examples(find_hospital, globals(), verbose=True)"
   ]
  },
  {
   "cell_type": "markdown",
   "metadata": {},
   "source": [
    "## Part 3: Get the address for that hospital from a webpage\n",
    "\n",
    "Great! Now we have code to tell us which hospital to send someone to... but we don't know where that hospital is. The next function we need to create is one that looks up the address of that hospital.  All of these hospitals are in Atlanta, Georgia.  We're going to use the list on this webpage to lookup the address for that hospital, based on its name.\n",
    "\n",
    "https://www.officialusa.com/stateguides/health/hospitals/georgia.html\n",
    "\n",
    "1. You need to create a function called **get_address()** that takes hospital name as a parameter and searches the data on the webpage above to find the addres for that hospital.\n",
    "2. I've said that all the hospitals are in Atlanta, but this webpage has hospitals from all of Georgia.  So, make sure you verify that the row of data you're using is in Atlanta, just in case there are hospitals with the same name in different cities.\n",
    "3. Your code will have to parse the HTML on the webpage and turn that into some kind of data structure that you can search through to find the right hospital.\n",
    "4. If you do find more than one matching hospital in Atlanta with the same name, you should raise a KeyError.\n",
    "5. If the hospital name isn't found, the function should raise a KeyError.\n",
    "6. Be sure to use good docstring documentation and includes at least 3 test cases."
   ]
  },
  {
   "cell_type": "code",
   "execution_count": 10,
   "metadata": {},
   "outputs": [],
   "source": [
    "def get_address(hosp_name): \n",
    "    \"\"\"This function takes a hosptial name as an input parameter and searches the data on the webpage \n",
    "    above to find the address for that hospital. Make sure the hospital address comes from only Atlanta. \n",
    "    If more than one matching hospital is found with the same name or a hospital name isn't found,\n",
    "    a key error will be raised. \n",
    "    >>> get_address('CHARTER BEHAVIORAL HEALTH SYSTEM OF ATLANTA')\n",
    "    '\"811 JUNIPER STREET NE\"'\n",
    "    \n",
    "    >>> get_address('SELECT SPECIALTY HOSPITAL - ATLANTA') \n",
    "    '\"550 PEACHTREE STREET, NE\"'\n",
    "    \n",
    "    >>> get_address(\"PRIDE MEDICAL\")\n",
    "    '\"3280 HOWELL MILL ROAD NW\"'\n",
    "\n",
    "    \"\"\"\n",
    "    from bs4 import BeautifulSoup    \n",
    "    import requests\n",
    "    from pprint import pprint\n",
    "\n",
    "    response = requests.get('https://www.officialusa.com/stateguides/health/hospitals/georgia.html')\n",
    "    soup = BeautifulSoup(response.text, 'html.parser')\n",
    "\n",
    "    output = {}\n",
    "    for table in soup.find_all('table',{'id':\"myTable\"}): \n",
    "        headers = []\n",
    "        for header in table.find_all('th'): \n",
    "            headers.append(header.text)\n",
    "        if headers == ['City','Hospital Name', 'TYPE', 'ADDRESS', 'WEBSITE','BEDS', 'NAICS_DESC']: \n",
    "            #print(headers)\n",
    "            for row in table.find_all('tr'):\n",
    "                data = [x.text for x in list(row.find_all('td'))]\n",
    "                if len(data) != 0: \n",
    "                    city = data[0]\n",
    "                    name = data[1]\n",
    "                    topic = data[2]\n",
    "                    address = data[3]\n",
    "                    if city == \"ATLANTA\" and name == hosp_name: \n",
    "                        output = address\n",
    "                        \n",
    "               \n",
    "    import json \n",
    "    final_address = (json.dumps(output))\n",
    "    if final_address == '{}':\n",
    "        raise KeyError('Hospital not in system')\n",
    "    else: \n",
    "        return final_address\n",
    "    \n"
   ]
  },
  {
   "cell_type": "code",
   "execution_count": 11,
   "metadata": {},
   "outputs": [
    {
     "data": {
      "text/plain": [
       "'\"811 JUNIPER STREET NE\"'"
      ]
     },
     "execution_count": 11,
     "metadata": {},
     "output_type": "execute_result"
    }
   ],
   "source": [
    "get_address(\"CHARTER BEHAVIORAL HEALTH SYSTEM OF ATLANTA\")"
   ]
  },
  {
   "cell_type": "code",
   "execution_count": 12,
   "metadata": {},
   "outputs": [
    {
     "ename": "KeyError",
     "evalue": "'Hospital not in system'",
     "output_type": "error",
     "traceback": [
      "\u001b[0;31m---------------------------------------------------------------------------\u001b[0m",
      "\u001b[0;31mKeyError\u001b[0m                                  Traceback (most recent call last)",
      "\u001b[0;32m<ipython-input-12-7ceb5030c014>\u001b[0m in \u001b[0;36m<module>\u001b[0;34m\u001b[0m\n\u001b[0;32m----> 1\u001b[0;31m \u001b[0mget_address\u001b[0m\u001b[0;34m(\u001b[0m\u001b[0;34m'Community Hospital'\u001b[0m\u001b[0;34m)\u001b[0m\u001b[0;34m\u001b[0m\u001b[0;34m\u001b[0m\u001b[0m\n\u001b[0m",
      "\u001b[0;32m<ipython-input-10-68be3212981d>\u001b[0m in \u001b[0;36mget_address\u001b[0;34m(hosp_name)\u001b[0m\n\u001b[1;32m     42\u001b[0m     \u001b[0mfinal_address\u001b[0m \u001b[0;34m=\u001b[0m \u001b[0;34m(\u001b[0m\u001b[0mjson\u001b[0m\u001b[0;34m.\u001b[0m\u001b[0mdumps\u001b[0m\u001b[0;34m(\u001b[0m\u001b[0moutput\u001b[0m\u001b[0;34m)\u001b[0m\u001b[0;34m)\u001b[0m\u001b[0;34m\u001b[0m\u001b[0;34m\u001b[0m\u001b[0m\n\u001b[1;32m     43\u001b[0m     \u001b[0;32mif\u001b[0m \u001b[0mfinal_address\u001b[0m \u001b[0;34m==\u001b[0m \u001b[0;34m'{}'\u001b[0m\u001b[0;34m:\u001b[0m\u001b[0;34m\u001b[0m\u001b[0;34m\u001b[0m\u001b[0m\n\u001b[0;32m---> 44\u001b[0;31m         \u001b[0;32mraise\u001b[0m \u001b[0mKeyError\u001b[0m\u001b[0;34m(\u001b[0m\u001b[0;34m'Hospital not in system'\u001b[0m\u001b[0;34m)\u001b[0m\u001b[0;34m\u001b[0m\u001b[0;34m\u001b[0m\u001b[0m\n\u001b[0m\u001b[1;32m     45\u001b[0m     \u001b[0;32melse\u001b[0m\u001b[0;34m:\u001b[0m\u001b[0;34m\u001b[0m\u001b[0;34m\u001b[0m\u001b[0m\n\u001b[1;32m     46\u001b[0m         \u001b[0;32mreturn\u001b[0m \u001b[0mfinal_address\u001b[0m\u001b[0;34m\u001b[0m\u001b[0;34m\u001b[0m\u001b[0m\n",
      "\u001b[0;31mKeyError\u001b[0m: 'Hospital not in system'"
     ]
    }
   ],
   "source": [
    "get_address('Community Hospital')"
   ]
  },
  {
   "cell_type": "code",
   "execution_count": null,
   "metadata": {},
   "outputs": [],
   "source": [
    "import doctest\n",
    "doctest.run_docstring_examples(get_address, globals(), verbose=True)"
   ]
  },
  {
   "cell_type": "markdown",
   "metadata": {},
   "source": [
    "## Part 4: Run the risk calculator on a population\n",
    "\n",
    "The `/data` folder has a file called `people.psv`.  It is a pipe-delimited (`|`) file with columns that match the inputs for the PRIEST calculation above.\n",
    "\n",
    "In addition, the file has a patient identifier in the first column.\n",
    "\n",
    "1. Write a function called **process_people()** that takes a file name as a parameter. Your Python program should use your code above to process all of these rows, determine the hospital and address, and return a list whose items are a dictionary like `{ patient_number: [sex, age, breath, o2sat, heart, systolic, temp, alertness, inspired, status, hospital, address]}`\n",
    "2. Be sure to use good docstrings, but you don't need any tests in your doc strings.  I've provided those for you below.\n",
    "\n",
    "\n",
    "**NOTE** that when running your code for all the 100 records in the `people.psv` file, it may take a few minutes to complete.  You're making multiple calls to the internet for each record, so that can take a little while.\n"
   ]
  },
  {
   "cell_type": "code",
   "execution_count": null,
   "metadata": {},
   "outputs": [],
   "source": [
    "def process_people(filename): \n",
    "    \"\"\"(str) --->(dict)\n",
    "    this functions takes a file name as input, then uses the code above to process the rows within said \n",
    "    file to determine the priest risk score and hospital information from the functions above. It then\n",
    "    returns a dictionary whose key is pateint number and values include the variables\n",
    "    used to calculate priest, priest score, hospital, and hospital address. \n",
    "    \"\"\"\n",
    "    import csv \n",
    "    with open(filename) as file: \n",
    "    \n",
    "        head = [] \n",
    "        rows = [] \n",
    "        \n",
    "  \n",
    "        opened = csv.reader(file, delimiter = \"|\")\n",
    "        head = next(opened)\n",
    "        global risk_perpatient\n",
    "        risk_perpatient = {} \n",
    "        for row in opened: \n",
    "            rows.append(row)\n",
    "        for item in rows: \n",
    "            patient = item[0]\n",
    "            sex = item[1]\n",
    "            age = int(item [2])\n",
    "            resp_rate = int(item[3])\n",
    "            o2_sat = float(item[4])\n",
    "            ht_rate = int(item[5])\n",
    "            BP = int(item[6])\n",
    "            temp_c = float(item[7])\n",
    "            alert= item[8]\n",
    "            insp_o2 = item[9]\n",
    "            performance = item[10]\n",
    "            risk_perpatient[patient] = [sex, age, resp_rate, o2_sat, ht_rate, BP, temp_c, alert, insp_o2, performance]\n",
    "            for v in risk_perpatient: \n",
    "                risk = priest(sex, age, resp_rate, o2_sat, ht_rate, BP, temp_c, alert, insp_o2, performance)\n",
    "            location = find_hospital(age,sex,risk) \n",
    "            location = location.upper()\n",
    "            address = get_address(location)\n",
    "            risk_perpatient[patient].append(risk)\n",
    "            risk_perpatient[patient].append(location)\n",
    "            risk_perpatient[patient].append(address)\n",
    "        return risk_perpatient\n",
    "            \n",
    "  "
   ]
  },
  {
   "cell_type": "code",
   "execution_count": null,
   "metadata": {},
   "outputs": [],
   "source": [
    "process_people('people.psv')"
   ]
  },
  {
   "cell_type": "code",
   "execution_count": null,
   "metadata": {},
   "outputs": [],
   "source": []
  },
  {
   "cell_type": "markdown",
   "metadata": {},
   "source": [
    "## Part 5: Checking your final results\n",
    "\n",
    "The final step is to check your results.  You should be able to compare your results to the output in `people_results.json` in the `/data` folder.  Write some code to check your results.  This does not need to be a function."
   ]
  },
  {
   "cell_type": "code",
   "execution_count": null,
   "metadata": {},
   "outputs": [],
   "source": [
    "import json \n",
    "with open('people_results.json') as d: \n",
    "    results = json.load(d)\n"
   ]
  },
  {
   "cell_type": "code",
   "execution_count": null,
   "metadata": {},
   "outputs": [],
   "source": [
    "risk_perpatient = process_people('people.psv')"
   ]
  },
  {
   "cell_type": "code",
   "execution_count": null,
   "metadata": {},
   "outputs": [],
   "source": [
    "len(results)"
   ]
  },
  {
   "cell_type": "code",
   "execution_count": null,
   "metadata": {},
   "outputs": [],
   "source": [
    "len(risk_perpatient)"
   ]
  },
  {
   "cell_type": "code",
   "execution_count": null,
   "metadata": {},
   "outputs": [],
   "source": [
    "def pretty(output):\n",
    "    for key,value in output.items():\n",
    "        print(key,':',value)"
   ]
  },
  {
   "cell_type": "code",
   "execution_count": null,
   "metadata": {},
   "outputs": [],
   "source": [
    "prettyresults = str(pretty(results))\n",
    "prettyoutput = str(pretty(risk_perpatient))"
   ]
  },
  {
   "cell_type": "code",
   "execution_count": null,
   "metadata": {},
   "outputs": [],
   "source": [
    "prettyresults == prettyoutput"
   ]
  },
  {
   "cell_type": "markdown",
   "metadata": {},
   "source": [
    "---\n",
    "\n",
    "## Check your work above\n",
    "\n",
    "If you didn't get them all correct, take a few minutes to think through those that aren't correct.\n",
    "\n",
    "\n",
    "## Submitting Your Work\n",
    "\n",
    "In order to submit your work, you'll need to use the `git` command line program to **add** your homework file (this file) to your local repository, **commit** your changes to your local repository, and then **push** those changes up to github.com.  From there, I'll be able to **pull** the changes down and do my grading.  I'll provide some feedback, **commit** and **push** my comments back to you.  Next week, I'll show you how to **pull** down my comments.\n",
    "\n",
    "To run through everything one last time and submit your work:\n",
    "1. Use the `Kernel` -> `Restart Kernel and Run All Cells` menu option to run everything from top to bottom and stop here.\n",
    "2. Follow the instruction on the prompt below to either ssave and submit your work, or continue working.\n",
    "\n",
    "If anything fails along the way with this submission part of the process, let me know.  I'll help you troubleshoort."
   ]
  },
  {
   "cell_type": "code",
   "execution_count": null,
   "metadata": {},
   "outputs": [],
   "source": []
  },
  {
   "cell_type": "code",
   "execution_count": null,
   "metadata": {},
   "outputs": [],
   "source": []
  },
  {
   "cell_type": "markdown",
   "metadata": {},
   "source": [
    "---"
   ]
  },
  {
   "cell_type": "code",
   "execution_count": 13,
   "metadata": {
    "jupyter": {
     "source_hidden": true
    }
   },
   "outputs": [
    {
     "name": "stdin",
     "output_type": "stream",
     "text": [
      "\n",
      "Are you ready to submit your work?\n",
      "1. Click the Save icon (or do Ctrl-S / Cmd-S)\n",
      "2. Type \"yes\" or \"no\" below\n",
      "3. Press Enter\n",
      "\n",
      " yes\n"
     ]
    },
    {
     "name": "stdout",
     "output_type": "stream",
     "text": [
      "[main c5daea4] Submitting the midterm\n",
      " 2 files changed, 2280 insertions(+), 2 deletions(-)\n",
      " create mode 100644 midterm-2022.ipynb\n",
      "Counting objects: 5, done.\n",
      "Delta compression using up to 2 threads.\n",
      "Compressing objects: 100% (5/5), done.\n",
      "Writing objects: 100% (5/5), 11.27 KiB | 5.63 MiB/s, done.\n",
      "Total 5 (delta 3), reused 0 (delta 0)\n",
      "remote: Resolving deltas: 100% (3/3), completed with 3 local objects.\u001b[K\n",
      "To github.com:lillyeversman/hds5210-2022.git\n",
      "   bc7b6c6..c5daea4  main -> main\n"
     ]
    }
   ],
   "source": [
    "a=input('''\n",
    "Are you ready to submit your work?\n",
    "1. Click the Save icon (or do Ctrl-S / Cmd-S)\n",
    "2. Type \"yes\" or \"no\" below\n",
    "3. Press Enter\n",
    "\n",
    "''')\n",
    "\n",
    "if a=='yes':\n",
    "    !git add \"midterm-2022.ipynb\"\n",
    "    !git commit -a -m \"Submitting the midterm\"\n",
    "    !git push\n",
    "else:\n",
    "    print('''\n",
    "    \n",
    "OK. We can wait.\n",
    "''')"
   ]
  },
  {
   "cell_type": "code",
   "execution_count": null,
   "metadata": {},
   "outputs": [],
   "source": []
  }
 ],
 "metadata": {
  "kernelspec": {
   "display_name": "Python 3",
   "language": "python",
   "name": "python3"
  },
  "language_info": {
   "codemirror_mode": {
    "name": "ipython",
    "version": 3
   },
   "file_extension": ".py",
   "mimetype": "text/x-python",
   "name": "python",
   "nbconvert_exporter": "python",
   "pygments_lexer": "ipython3",
   "version": "3.6.7"
  }
 },
 "nbformat": 4,
 "nbformat_minor": 4
}
