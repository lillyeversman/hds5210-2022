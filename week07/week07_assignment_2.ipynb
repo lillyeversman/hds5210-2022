{
 "cells": [
  {
   "cell_type": "markdown",
   "metadata": {},
   "source": [
    "# Week 7 Assignment\n",
    "\n",
    "_MkKinney 6.1_\n",
    "\n",
    "This week has been all about getting information off the internet both in structured data formats (CSV, JSON, etc) as well as HTML.  For these exercises, we're going to use two practical examples of fetching data from web pages to show how to use Pandas and BeautifulSoup to extract structured information from the web.\n",
    "\n",
    "---\n",
    "---"
   ]
  },
  {
   "cell_type": "markdown",
   "metadata": {},
   "source": [
    "### 33.1 Parsing a list in HTML\n",
    "\n",
    "Go to the Banner Health Price Transparency Page: https://www.bannerhealth.com/patients/billing/pricing-resources/hospital-price-transparency\n",
    "\n",
    "Notice that there is a list of hospitals and the city they are in.  We want to parse the underlying HTML to create a list of all the hospitals along with which city they're in.\n",
    "\n",
    "```json\n",
    "[\n",
    "    [\"Banner - University Medical Center Phoenix\", \"Arizona\"],\n",
    "    [\"Banner - University Medical Center South \", \"Arizona\"],\n",
    "    ...\n",
    "]\n",
    "```\n",
    "\n",
    "To examine the underlying HTML code, you can use Chrome, right-click, and choose **Inspect**.\n",
    "\n",
    "For reference, the documentation for BeautifulSoup is here: https://www.crummy.com/software/BeautifulSoup/bs4/doc/\n"
   ]
  },
  {
   "cell_type": "markdown",
   "metadata": {},
   "source": [
    "In the cell below, create a function called **parse_banner(url)** that takes as it's one parameter the URL of the webpage to be parsed for links.  Make sure you include docstrings and a good test case using hte URL provided above."
   ]
  },
  {
   "cell_type": "code",
   "execution_count": 1,
   "metadata": {},
   "outputs": [],
   "source": [
    "def parse_banner(url): \n",
    "    \"\"\"(HTML) -> (list)\n",
    "    This function takes the URL given to be parsed for links. \n",
    "    \n",
    "    >>> len(parse_banner('https://www.bannerhealth.com/patients/billing/pricing-resources/hospital-price-transparency'))\n",
    "    32\n",
    "    \"\"\"\n",
    "\n",
    "    from bs4 import BeautifulSoup\n",
    "    import requests\n",
    "\n",
    "    headers = { \"User-Agent\": \"Mozilla/5.0 (Macintosh; Intel Mac OS X 11_2_3) AppleWebKit/537.36 (KHTML, like Gecko) Chrome/89.0.4389.90 Safari/537.36\" }\n",
    "    response = requests.get('https://www.bannerhealth.com/patients/billing/pricing-resources/hospital-price-transparency', headers=headers)\n",
    "    soup = BeautifulSoup(response.text, 'html.parser')\n",
    "\n",
    "\n",
    "    location = []\n",
    "    hospital = []\n",
    "    output = []\n",
    "    result = []\n",
    "    final = [] \n",
    "    lists = soup.find_all('p')\n",
    "    for item in lists: \n",
    "        facility = item.next_sibling.next_sibling\n",
    "        if facility != None:\n",
    "            for a in facility.find_all('a'):\n",
    "                hospital = [a.text]\n",
    "                place = item.find('strong') \n",
    "                if place != None: \n",
    "                    location = [place.text]\n",
    "                    output = hospital + location\n",
    "                final.append(output)\n",
    "                final_list = [x for x in final if x != []]\n",
    "    return final_list\n",
    "                \n",
    "    \n",
    "                \n",
    "                \n",
    "    "
   ]
  },
  {
   "cell_type": "code",
   "execution_count": 2,
   "metadata": {},
   "outputs": [
    {
     "data": {
      "text/plain": [
       "[['Banner - University Medical Center Phoenix', 'Arizona'],\n",
       " ['Banner - University Medical Center South', 'Arizona'],\n",
       " ['Banner - University Medical Center Tucson', 'Arizona'],\n",
       " ['Banner Baywood Medical Center', 'Arizona'],\n",
       " ['Banner Behavioral Health Hospital', 'Arizona'],\n",
       " ['Banner Boswell Medical Center', 'Arizona'],\n",
       " ['Banner Casa Grande Medical Center', 'Arizona'],\n",
       " ['Banner Del E. Webb Medical Center', 'Arizona'],\n",
       " [\"Banner Desert Medical Center/Cardon Children's Medical Center\", 'Arizona'],\n",
       " ['Banner Estrella Medical Center', 'Arizona'],\n",
       " ['Banner Gateway Medical Center/Banner MD Anderson Cancer Center', 'Arizona'],\n",
       " ['Banner Goldfield Medical Center', 'Arizona'],\n",
       " ['Banner Heart Hospital', 'Arizona'],\n",
       " ['Banner Ironwood Medical Center', 'Arizona'],\n",
       " ['Banner Ocotillo Medical Center', 'Arizona'],\n",
       " ['Banner Payson Medical Center', 'Arizona'],\n",
       " ['Banner Rehabilitation Hospitals', 'Arizona'],\n",
       " ['Banner Thunderbird Medical Center', 'Arizona'],\n",
       " ['Page Hospital', 'Arizona'],\n",
       " ['Banner Lassen Medical Center', 'California'],\n",
       " ['Banner Fort Collins Medical Center', 'Colorado'],\n",
       " ['McKee Medical Center', 'Colorado'],\n",
       " ['North Colorado Medical Center', 'Colorado'],\n",
       " ['Sterling Regional Medical Center', 'Colorado'],\n",
       " ['East Morgan County Hospital', 'Colorado'],\n",
       " ['Ogallala Community Hospital', 'Nebraska'],\n",
       " ['Banner Churchill Community Hospital', 'Nevada'],\n",
       " ['Banner Wyoming Medical Center\\xa0Central Campus', 'Wyoming'],\n",
       " ['Banner Wyoming Medical Center East Campus', 'Wyoming'],\n",
       " ['Community Hospital', 'Wyoming'],\n",
       " ['Washakie Medical Center', 'Wyoming'],\n",
       " ['Platte County Memorial Hospital', 'Wyoming']]"
      ]
     },
     "execution_count": 2,
     "metadata": {},
     "output_type": "execute_result"
    }
   ],
   "source": [
    "parse_banner('https://www.bannerhealth.com/patients/billing/pricing-resources/hospital-price-transparency')"
   ]
  },
  {
   "cell_type": "code",
   "execution_count": 3,
   "metadata": {},
   "outputs": [
    {
     "name": "stdout",
     "output_type": "stream",
     "text": [
      "Finding tests in NoName\n",
      "Trying:\n",
      "    len(parse_banner('https://www.bannerhealth.com/patients/billing/pricing-resources/hospital-price-transparency'))\n",
      "Expecting:\n",
      "    32\n",
      "ok\n"
     ]
    }
   ],
   "source": [
    "import doctest\n",
    "doctest.run_docstring_examples(parse_banner, globals(), verbose=True)\n"
   ]
  },
  {
   "cell_type": "code",
   "execution_count": 4,
   "metadata": {},
   "outputs": [],
   "source": [
    "banner = parse_banner('https://www.bannerhealth.com/patients/billing/pricing-resources/hospital-price-transparency')\n",
    "assert len(banner)==32, 'Length of result should have been 31, but {} returned.'.format(len(banner))\n",
    "assert banner[0][1]=='Arizona', 'Wrong data found in the first result item: {}'.format(banner[0])"
   ]
  },
  {
   "cell_type": "code",
   "execution_count": 5,
   "metadata": {},
   "outputs": [
    {
     "data": {
      "text/plain": [
       "32"
      ]
     },
     "execution_count": 5,
     "metadata": {},
     "output_type": "execute_result"
    }
   ],
   "source": [
    "len(banner)"
   ]
  },
  {
   "cell_type": "markdown",
   "metadata": {},
   "source": [
    "---\n",
    "\n",
    "## 33.2 Using a REST API (from GitHub.com)\n",
    "\n",
    "Many websites provide something called a REST API to access information from their site programatically, rather than relying on HTML.  One example is GitHub.com, whose API allows you do to things like \"list all the public repositories for a user.\"\n",
    "\n",
    "The documentation for GitHub.com's REST API can be found here: https://docs.github.com/en/rest/guides/getting-started-with-the-rest-api\n",
    "\n",
    "Create a function called **repo_summary(user)** that takes a GitHub.com user name as it's parameter and retrieves a list of all the repositories you can see for that user.  The specific documentation for the this kind of request can be found here: https://docs.github.com/en/rest/reference/repos#list-repositories-for-a-user. Make sure your function is well documented with a docstring and includes a simple test to verify that you get back 12 repositories when querying for the repositories for user **paulboal**.\n",
    "\n",
    "I've provided a related example to help you out."
   ]
  },
  {
   "cell_type": "code",
   "execution_count": 6,
   "metadata": {},
   "outputs": [
    {
     "name": "stdout",
     "output_type": "stream",
     "text": [
      "This information is about paulboal. His website is www.amitechsolutions.com.\n"
     ]
    }
   ],
   "source": [
    "# Example -- this example of code shows how to get basic information on the user paulboal\n",
    "# For your solution, make sure you meet the requirements in the instructions above.\n",
    "\n",
    "import requests\n",
    "\n",
    "response = requests.get('https://api.github.com/users/paulboal')\n",
    "data = response.json()\n",
    "\n",
    "print('This information is about {}. His website is {}.'.format(data.get('login'),data.get('blog')))"
   ]
  },
  {
   "cell_type": "code",
   "execution_count": 7,
   "metadata": {},
   "outputs": [],
   "source": [
    "# Your code Here\n",
    "def repo_summary(user): \n",
    "    \"\"\"This function takes a Github.com user name as it's parameter and retrieves a \n",
    "    list of all the repositories you can see for that user. \n",
    "    >>> len(repo_summary('paulboal'))\n",
    "    12\n",
    "    \"\"\"\n",
    "    import requests \n",
    "    import json \n",
    "    from bs4 import BeautifulSoup \n",
    "    \n",
    "    url = 'https://api.github.com/users/{user}/repos'.format(user = user)\n",
    "    user = \"paulboal\"\n",
    "    user_data = requests.get(url).json() \n",
    "    \n",
    "    output = []\n",
    "    for i in user_data: \n",
    "        output.append(i['name'])\n",
    "    return output\n",
    "\n",
    "    \n",
    "       \n",
    "    "
   ]
  },
  {
   "cell_type": "code",
   "execution_count": 8,
   "metadata": {},
   "outputs": [
    {
     "data": {
      "text/plain": [
       "['ajaxterm',\n",
       " 'cms_hospital_compare',\n",
       " 'collibra-scripts',\n",
       " 'coronadatascraper',\n",
       " 'hadoop-heuristicsminer',\n",
       " 'hds5210-2021',\n",
       " 'hds5210-2022',\n",
       " 'jupyterhub-nbgrader',\n",
       " 'nppes_demo',\n",
       " 'pexpect-curses',\n",
       " 'scm-products',\n",
       " 'tdwi-accelerate-2017-python']"
      ]
     },
     "execution_count": 8,
     "metadata": {},
     "output_type": "execute_result"
    }
   ],
   "source": [
    "repo_summary(\"paulboal\")"
   ]
  },
  {
   "cell_type": "code",
   "execution_count": 9,
   "metadata": {},
   "outputs": [
    {
     "name": "stdout",
     "output_type": "stream",
     "text": [
      "Finding tests in NoName\n",
      "Trying:\n",
      "    len(repo_summary('paulboal'))\n",
      "Expecting:\n",
      "    12\n",
      "ok\n"
     ]
    }
   ],
   "source": [
    "import doctest\n",
    "doctest.run_docstring_examples(repo_summary, globals(), verbose=True)"
   ]
  },
  {
   "cell_type": "code",
   "execution_count": 10,
   "metadata": {},
   "outputs": [],
   "source": [
    "repos = repo_summary('paulboal')\n",
    "assert len(repos)==12, 'Expecing 12, but {} were found'.format(len(repos))"
   ]
  },
  {
   "cell_type": "markdown",
   "metadata": {},
   "source": [
    "---\n",
    "\n",
    "### 33.3 Find Something of Your Own\n",
    "\n",
    "Do some web searches and find an HTML page with some data that is interesting to something you're studying.  You can extract and parse that information using either BeautifulSoup or Pandas.  If you're using Pandas, then do something interesting to format and structure your data.  If you're using BeautifulSoup, you'll just need to do the work of parsing the data out of HTML -- that's hard enough!\n",
    "\n",
    "You don't need to build this as a function.  Just use notebook cells as I've done above.  You will be graded based on _style_.  Use variable names that make sense for your problem / solution. Cleanup anything you don't need before you submit your work."
   ]
  },
  {
   "cell_type": "code",
   "execution_count": null,
   "metadata": {},
   "outputs": [],
   "source": []
  },
  {
   "cell_type": "code",
   "execution_count": 11,
   "metadata": {},
   "outputs": [
    {
     "name": "stdout",
     "output_type": "stream",
     "text": [
      "8 Scientific Health Benefits of the Mediterranean Diet | Everyday Health\n",
      "Reviewed: March 19, 2019\n",
      "1. The Mediterranean Diet May Help Reduce Your Risk for Heart Diseas\n",
      "2. Eating a Mediterranean Diet May Reduce Women’s Risk for Strok\n",
      "3. A Mediterranean Diet May Prevent Cognitive Decline and Alzheimer’s Diseas\n",
      "4. The Mediterranean Diet May Help With Weight Loss and Maintenanc\n",
      "5. Eating a Mediterranean Diet May Help Stave Off and Manage Type 2 Diabete\n",
      "6. People With Rheumatoid Arthritis May Benefit From the Mediterranean Die\n",
      "7. Are Foods in the Mediterranean Diet Protective Against Cancer\n",
      "8. Eating Foods in a Mediterranean Diet May Help Ease Depressio\n",
      "The Importance of Moderation When Following a Mediterranean Die\n"
     ]
    }
   ],
   "source": [
    "##trying to make a list of the key headings in an article citing the benefits of the medeterrian diet for one's health \n",
    "##parsing worked! \n",
    "import requests\n",
    "from bs4 import BeautifulSoup \n",
    "\n",
    "response = requests.get('https://www.everydayhealth.com/mediterranean-diet/scientific-health-benefits-mediterranean-diet/')\n",
    "soup = BeautifulSoup(response.text, 'html.parser')\n",
    "\n",
    "reasons = [] \n",
    "title = soup.title.text\n",
    "print(title)\n",
    "date = soup.find('div',{'class':'by-line__last-updated'})\n",
    "if date != None: \n",
    "    dated = date.text \n",
    "    print(dated)\n",
    "results = soup.find_all('div', {'class':'eh-content-block__content'})\n",
    "for item in results: \n",
    "    topics = item.find('h2')\n",
    "    if topics != None: \n",
    "        reasons = topics.text \n",
    "        final_list = reasons[:-1]\n",
    "        print(final_list)\n",
    "\n",
    "\n",
    "    \n",
    "\n"
   ]
  },
  {
   "cell_type": "code",
   "execution_count": 12,
   "metadata": {},
   "outputs": [
    {
     "data": {
      "text/plain": [
       "<bound method NDFrame.head of                   Characteristic                           No.  \\\n",
       "                  Characteristic                           No.   \n",
       "                  Characteristic                           No.   \n",
       "                         Overall                        10,636   \n",
       "0                          Women                          5413   \n",
       "1                            Men                          5223   \n",
       "2   Household income, both sexes  Household income, both sexes   \n",
       "3                      ≤130% FPL                          3462   \n",
       "4              >130 to ≤350% FPL                          3331   \n",
       "5                      >350% FPL                          2992   \n",
       "6        Household income, women       Household income, women   \n",
       "7                      ≤130% FPL                          1835   \n",
       "8              >130 to ≤350% FPL                          1702   \n",
       "9                      >350% FPL                          1453   \n",
       "10         Household income, men         Household income, men   \n",
       "11                     ≤130% FPL                          1627   \n",
       "12             >130 to ≤350% FPL                          1629   \n",
       "13                     >350% FPL                          1539   \n",
       "14         Education, both sexes         Education, both sexes   \n",
       "15  High school graduate or less                          4714   \n",
       "16                  Some college                          3231   \n",
       "17              College graduate                          2683   \n",
       "18              Education, women              Education, women   \n",
       "19  High school graduate or less                          2277   \n",
       "20                  Some college                          1777   \n",
       "21              College graduate                          1355   \n",
       "22                Education, men                Education, men   \n",
       "23  High school graduate or less                          2437   \n",
       "24                  Some college                          1454   \n",
       "25              College graduate                          1328   \n",
       "\n",
       "            Race/Hispanic origin                                \\\n",
       "                         Overall           White, non-Hispanic   \n",
       "                      % (95% CI)                    % (95% CI)   \n",
       "                36.3 (34.7–38.0)              34.5 (32.4–36.7)   \n",
       "0               38.3 (36.1–40.5)              35.5 (32.4–38.6)   \n",
       "1               34.3 (32.6–36.1)              33.6 (31.4–35.7)   \n",
       "2   Household income, both sexes  Household income, both sexes   \n",
       "3               39.0 (36.9–41.0)              35.8 (32.8–38.7)   \n",
       "4               40.8 (38.2–43.4)              40.2 (36.5–43.9)   \n",
       "5            31.2 (28.3–34.2)†,§           30.6 (27.3–34.0)†,§   \n",
       "6        Household income, women       Household income, women   \n",
       "7               45.2 (42.5–48.0)              42.0 (37.4–46.5)   \n",
       "8               42.9 (40.1–45.8)              42.5 (38.8–46.1)   \n",
       "9            29.7 (26.1–33.3)†,§           27.9 (24.0–31.9)†,§   \n",
       "10         Household income, men         Household income, men   \n",
       "11              31.5 (28.5–34.4)              28.5 (24.4–32.6)   \n",
       "12             38.5 (35.1–41.9)†             37.8 (32.7–43.0)†   \n",
       "13             32.6 (29.4–35.8)§              32.9 (29.2–36.6)   \n",
       "14         Education, both sexes         Education, both sexes   \n",
       "15              40.0 (37.9–42.2)              38.1 (34.5–41.6)   \n",
       "16              40.6 (38.1–43.1)              39.2 (35.9–42.5)   \n",
       "17          27.8 (25.0–30.7)¶,**          27.5 (24.1–30.9)¶,**   \n",
       "18              Education, women              Education, women   \n",
       "19              45.3 (42.3–48.3)              43.3 (38.7–47.8)   \n",
       "20              41.2 (38.5–43.9)              38.9 (35.1–42.7)   \n",
       "21          27.8 (24.1–31.5)¶,**          27.0 (22.3–31.6)¶,**   \n",
       "22                Education, men                Education, men   \n",
       "23              35.5 (33.0–37.9)              34.1 (29.7–38.5)   \n",
       "24              40.0 (35.9–44.1)              39.9 (34.7–45.1)   \n",
       "25          27.9 (24.3–31.5)¶,**            28.1 (24.1–32.1)**   \n",
       "\n",
       "                                                                \\\n",
       "             Black, non-Hispanic           Asian, non-Hispanic   \n",
       "                      % (95% CI)                    % (95% CI)   \n",
       "                48.1 (45.5–50.7)               11.7 (9.8–13.7)   \n",
       "0               56.9 (54.2–59.7)               11.9 (8.8–15.1)   \n",
       "1               37.5 (34.3–40.8)               11.2 (8.8–13.6)   \n",
       "2   Household income, both sexes  Household income, both sexes   \n",
       "3               46.6 (43.2–50.0)               15.0 (9.7–20.3)   \n",
       "4               48.8 (44.6–52.9)               11.2 (6.6–15.8)   \n",
       "5               49.3 (43.4–55.1)               10.7 (8.3–13.1)   \n",
       "6        Household income, women       Household income, women   \n",
       "7               55.8 (52.2–59.4)              17.2 (10.3–24.1)   \n",
       "8               59.4 (53.7–65.2)               11.7 (5.6–17.7)   \n",
       "9               56.7 (50.0–63.5)                9.7 (5.8–13.7)   \n",
       "10         Household income, men         Household income, men   \n",
       "11              33.8 (28.9–38.6)               11.8 (4.7–18.9)   \n",
       "12              35.6 (30.7–40.5)               10.3 (5.6–15.0)   \n",
       "13             42.7 (35.8–49.6)†               11.8 (7.9–15.7)   \n",
       "14         Education, both sexes         Education, both sexes   \n",
       "15              46.6 (42.8–50.4)               11.5 (7.6–15.5)   \n",
       "16              50.5 (46.3–54.7)               12.4 (8.9–15.8)   \n",
       "17              47.3 (43.3–52.1)               11.1 (8.7–13.6)   \n",
       "18              Education, women              Education, women   \n",
       "19              57.9 (53.2–62.6)               11.4 (6.1–16.7)   \n",
       "20              58.8 (53.8–63.9)               13.3 (7.6–19.0)   \n",
       "21            52.1 (47.4–56.8)**               11.3 (7.6–15.0)   \n",
       "22                Education, men                Education, men   \n",
       "23              36.0 (30.7–41.2)               11.0 (5.7–16.2)   \n",
       "24              38.2 (32.7–43.7)               10.3 (5.6–15.1)   \n",
       "25              40.4 (32.4–48.3)               11.0 (7.9–14.1)   \n",
       "\n",
       "                                  \n",
       "                        Hispanic  \n",
       "                      % (95% CI)  \n",
       "                42.5 (39.8–45.3)  \n",
       "0               45.7 (42.2–49.2)  \n",
       "1               39.0 (35.4–42.5)  \n",
       "2   Household income, both sexes  \n",
       "3               42.6 (38.1–47.1)  \n",
       "4               45.0 (40.7–49.2)  \n",
       "5               39.1 (33.9–44.3)  \n",
       "6        Household income, women  \n",
       "7               48.7 (43.1–54.4)  \n",
       "8               44.6 (37.4–51.8)  \n",
       "9               42.9 (35.2–50.5)  \n",
       "10         Household income, men  \n",
       "11              35.9 (30.9–40.8)  \n",
       "12             44.6 (40.1–49.2)†  \n",
       "13             35.6 (27.8–43.4)§  \n",
       "14         Education, both sexes  \n",
       "15              43.8 (40.6–47.0)  \n",
       "16              42.9 (38.2–47.5)  \n",
       "17             36.9 (30.6–43.2)¶  \n",
       "18              Education, women  \n",
       "19              49.6 (45.6–53.7)  \n",
       "20              43.0 (36.3–49.8)  \n",
       "21             36.1 (26.5–45.6)¶  \n",
       "22                Education, men  \n",
       "23              37.7 (34.0–41.4)  \n",
       "24              42.9 (36.0–49.9)  \n",
       "25              38.5 (28.1–48.8)  >"
      ]
     },
     "execution_count": 12,
     "metadata": {},
     "output_type": "execute_result"
    }
   ],
   "source": [
    "# Your Code Here\n",
    "\n",
    "## trying out some pandas work here for fun \n",
    "\n",
    "import pandas as pd \n",
    "import requests \n",
    "\n",
    "url = 'https://www.cdc.gov/mmwr/volumes/66/wr/mm6650a1.htm?s_cid=mm6650a1_w'\n",
    "obesity = requests.get(url)\n",
    "table_list = pd.read_html(obesity.text)\n",
    "table = table_list[0]\n",
    "table.head\n",
    "\n",
    "       \n",
    " \n",
    "\n",
    "\n"
   ]
  },
  {
   "cell_type": "markdown",
   "metadata": {},
   "source": [
    "---\n",
    "\n",
    "## Check your work above\n",
    "\n",
    "If you didn't get them all correct, take a few minutes to think through those that aren't correct.\n",
    "\n",
    "\n",
    "## Submitting Your Work\n",
    "\n",
    "In order to submit your work, you'll need to use the `git` command line program to **add** your homework file (this file) to your local repository, **commit** your changes to your local repository, and then **push** those changes up to github.com.  From there, I'll be able to **pull** the changes down and do my grading.  I'll provide some feedback, **commit** and **push** my comments back to you.  Next week, I'll show you how to **pull** down my comments.\n",
    "\n",
    "To run through everything one last time and submit your work:\n",
    "1. Use the `Kernel` -> `Restart Kernel and Run All Cells` menu option to run everything from top to bottom and stop here.\n",
    "2. Follow the instruction on the prompt below to either ssave and submit your work, or continue working.\n",
    "\n",
    "If anything fails along the way with this submission part of the process, let me know.  I'll help you troubleshoort."
   ]
  },
  {
   "cell_type": "markdown",
   "metadata": {},
   "source": [
    "---"
   ]
  },
  {
   "cell_type": "code",
   "execution_count": null,
   "metadata": {
    "jupyter": {
     "source_hidden": true
    }
   },
   "outputs": [],
   "source": [
    "a=input('''\n",
    "Are you ready to submit your work?\n",
    "1. Click the Save icon (or do Ctrl-S / Cmd-S)\n",
    "2. Type \"yes\" or \"no\" below\n",
    "3. Press Enter\n",
    "\n",
    "''')\n",
    "\n",
    "if a=='yes':\n",
    "    !git add week07_assignment_2.ipynb\n",
    "    !git commit -a -m \"Submitting the week 7 programming exercises\"\n",
    "    !git push\n",
    "else:\n",
    "    print('''\n",
    "    \n",
    "OK. We can wait.\n",
    "''')"
   ]
  },
  {
   "cell_type": "code",
   "execution_count": null,
   "metadata": {},
   "outputs": [],
   "source": []
  }
 ],
 "metadata": {
  "kernelspec": {
   "display_name": "Python 3",
   "language": "python",
   "name": "python3"
  },
  "language_info": {
   "codemirror_mode": {
    "name": "ipython",
    "version": 3
   },
   "file_extension": ".py",
   "mimetype": "text/x-python",
   "name": "python",
   "nbconvert_exporter": "python",
   "pygments_lexer": "ipython3",
   "version": "3.6.7"
  }
 },
 "nbformat": 4,
 "nbformat_minor": 4
}
