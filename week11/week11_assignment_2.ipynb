{
 "cells": [
  {
   "cell_type": "markdown",
   "metadata": {},
   "source": [
    "# Week 11 Assignment\n",
    "\n",
    "Because I was unable to conduct our workshop this week, I'm keeping the assignment light as well.  Below you'll find just two steps for this week: one programming exercise and then a planning activity for your final project.\n",
    "\n",
    "For clarification, the \"final project\" I've been referring to is your \"final.\"  It is not a project in addition to a final exam.  They're one-in-the-same.\n",
    "\n",
    "Please do the programming exercise and verify that your code works using the tests, then think about your final project and fill out the questions in the second part.\n",
    "\n",
    "---\n",
    "---"
   ]
  },
  {
   "cell_type": "markdown",
   "metadata": {},
   "source": [
    "### 47.1: Filtering and summarizing data\n",
    "\n",
    "For this work, you'll find a data file in `/data/complications_all.csv`.\n",
    "\n",
    "Read in the data file and create a variable called `mo_hospitals` that contains a data frame from the `complications_all.csv` file, filtered down to only contain those hospitals from the state of Missouri (MO).\n",
    "\n",
    "Then aggregate that data by hospital into a variable named `mo_summary`.  There are some key fields that we want to summarize:\n",
    "* We want to know the earliest date that each hospital was participating in any program\n",
    "* We want to know the latest date that each hospital stopped participating in any program\n",
    "* We want to know the total number of patients in the denominators of these programs\n",
    "\n",
    "Some things to note:\n",
    "* You will need to convert the `Start Date` and `End Date` to actual datetime fields\n",
    "* You will need to clean up and convert the `Denominator` field to just be numeric - the rule that you should use it to simply remove any records where the `Denominator` is `'Not Available'`\n",
    "\n",
    "\n",
    "The final result of this step should be a new data frame called `mo_summary` that contains one row for each hospital and contains the min start date, max end date, and total denominator.  Use the names `start_date`, `end_date`, and `number` for those columns in `mo_summary`.\n",
    "\n",
    "\n",
    "You do not need to create your code in the form of a function, just make sure your variable names match what I've described above so the tests work."
   ]
  },
  {
   "cell_type": "code",
   "execution_count": 1,
   "metadata": {},
   "outputs": [],
   "source": [
    "import pandas as pd\n",
    "# This is just to show you the name to use for the variable you need to create for this step to pass.\n",
    "data = pd.read_csv('complications_all.csv') \n",
    "filter = data['State'] == \"MO\"\n",
    "mo_hospitals = data[filter]"
   ]
  },
  {
   "cell_type": "code",
   "execution_count": 2,
   "metadata": {},
   "outputs": [],
   "source": [
    "# These assertions will help make sure that you're on the right track.\n",
    "assert(mo_hospitals['State'].unique() == ['MO'])\n",
    "assert(mo_hospitals.shape == (2133,18))"
   ]
  },
  {
   "cell_type": "code",
   "execution_count": 3,
   "metadata": {},
   "outputs": [
    {
     "data": {
      "text/plain": [
       "(2133, 18)"
      ]
     },
     "execution_count": 3,
     "metadata": {},
     "output_type": "execute_result"
    }
   ],
   "source": [
    "mo_hospitals.shape"
   ]
  },
  {
   "cell_type": "code",
   "execution_count": 4,
   "metadata": {},
   "outputs": [],
   "source": [
    "#filter out denominators that are not numbers, ie, those that say \"not available\"\n",
    "filter = mo_hospitals['Denominator'] != 'Not Available'"
   ]
  },
  {
   "cell_type": "code",
   "execution_count": 5,
   "metadata": {},
   "outputs": [],
   "source": [
    "mo_hospitals = mo_hospitals[filter]"
   ]
  },
  {
   "cell_type": "code",
   "execution_count": 6,
   "metadata": {},
   "outputs": [],
   "source": [
    "#make data type integer for denominator field \n",
    "number = mo_hospitals['Denominator'].astype(int)"
   ]
  },
  {
   "cell_type": "code",
   "execution_count": 7,
   "metadata": {},
   "outputs": [],
   "source": [
    "mo_hospitals['number']= number"
   ]
  },
  {
   "cell_type": "code",
   "execution_count": 8,
   "metadata": {},
   "outputs": [],
   "source": [
    "#change variables to datetime format and ensure that all variables for mo summary df are grouped by facility name \n",
    "import datetime\n",
    "mo_hospitals['start_date']= pd.to_datetime(mo_hospitals['Start Date'])\n",
    "mo_hospitals['end_date']= pd.to_datetime(mo_hospitals['End Date'])\n",
    "mo_denominator= mo_hospitals.groupby('Facility Name')['number'].sum()\n",
    "mo_start= mo_hospitals.groupby('Facility Name')['start_date'].min()\n",
    "mo_end=mo_hospitals.groupby('Facility Name')['end_date'].max()"
   ]
  },
  {
   "cell_type": "code",
   "execution_count": 9,
   "metadata": {},
   "outputs": [],
   "source": [
    "#concat these variables into new df \n",
    "mo_summary = pd.concat([mo_denominator, mo_start,mo_end],axis = 1) \n"
   ]
  },
  {
   "cell_type": "code",
   "execution_count": 10,
   "metadata": {},
   "outputs": [],
   "source": [
    "assert(mo_summary['number'].sum() == 1766908)\n",
    "assert(mo_summary['start_date'].min() == pd.Timestamp(2015,4,1))\n",
    "assert(mo_summary['end_date'].max() == pd.Timestamp(2018,6,30))\n",
    "assert(mo_summary.shape == (108,3))\n",
    "assert(mo_summary.loc['BARNES JEWISH HOSPITAL'].number == 131313)\n",
    "assert(mo_summary.loc['BOONE HOSPITAL CENTER'].number == 63099)"
   ]
  },
  {
   "cell_type": "code",
   "execution_count": 11,
   "metadata": {},
   "outputs": [
    {
     "data": {
      "text/plain": [
       "1766908"
      ]
     },
     "execution_count": 11,
     "metadata": {},
     "output_type": "execute_result"
    }
   ],
   "source": [
    "mo_summary['number'].sum() "
   ]
  },
  {
   "cell_type": "code",
   "execution_count": 12,
   "metadata": {},
   "outputs": [
    {
     "data": {
      "text/plain": [
       "True"
      ]
     },
     "execution_count": 12,
     "metadata": {},
     "output_type": "execute_result"
    }
   ],
   "source": [
    "mo_summary.loc['BARNES JEWISH HOSPITAL'].number == 131313"
   ]
  },
  {
   "cell_type": "markdown",
   "metadata": {},
   "source": [
    "---\n",
    "\n",
    "### 47.2 Planning your final project\n",
    "\n",
    "You should be thinking about the things we've been learning and how you can apply them to your final project.  Use the rubric to help guid your thinking and then answer the questions below.  This is meant as a guide to help you think through what you will do."
   ]
  },
  {
   "cell_type": "markdown",
   "metadata": {},
   "source": [
    "#### A) Data Access\n",
    "\n",
    "Your project should include data from at least three distinct types of sources.  For example: AWS S3, Relational Databases, Internet, Web Services, local files.  List what data sources you're planning to use."
   ]
  },
  {
   "cell_type": "markdown",
   "metadata": {},
   "source": [
    "\n",
    "First, I will use data from KFF analysis of Centers for Disease Control and Prevention (CDC), National Center for Health Statistics regarding Opioid Overdose Death Rates and All Drug Overdose Death Rates per 100,000 Population (Age-Adjusted). It is in a raw data CSV format. \n",
    "\n",
    "Next, I will use Data from this same site to assess incidence of Depression and Anxiety per 100,000 Population. For both of these KFF files, I will download and use as local files. \n",
    "\n",
    "I also plan to use data from the internet via a website called \"https://worldpopulationreview.com/\".  I will be looking at a table on the website that ranks the \"happiness\" score of the 50 states \n",
    "\n",
    "Lastly, data from an internet website about Naloxone laws in states- I will be reading text files from the internet. "
   ]
  },
  {
   "cell_type": "markdown",
   "metadata": {},
   "source": [
    "#### B. Data Formats\n",
    "\n",
    "Your project should include data that comes in different file formats.  For example: HL7, EDI, HTML, CSV, Excel, JSON, XML.  List what data formats you're planning to use."
   ]
  },
  {
   "cell_type": "markdown",
   "metadata": {},
   "source": [
    "\n",
    "\n",
    "I will be using CSV files from KFF and JSON from the website. For the text information I will using, it will be in HTML format"
   ]
  },
  {
   "cell_type": "markdown",
   "metadata": {},
   "source": [
    "#### C. Objective\n",
    "\n",
    "What purpose would your project serve in a real work setting?  Take a couple of paragraphs to write down why this is an interesting product."
   ]
  },
  {
   "cell_type": "markdown",
   "metadata": {},
   "source": [
    "\n",
    "The purpose of my project is to better understand the data that surrounds the opioid epidemic, and to get a sense of which states face the highest incidences and try to get an understanding about why these states have such high rates. I plan to use the happiness data in comparison with the opioid overdose death data by state to see the correlation between the happiest and most unhappy states and their overdose rates. This, in addition to analyzing the states with the highest rates of depression and anxiety, will hopefully show the connection between poor mental health/wellbeing  and opioid overdoses. \n",
    "\n",
    "I also plan to use the state data along with the knowledge about naloxone laws and how they differ per state. I would like to see if having naloxone access laws helps to have a decreased amount of fatal overdoses. For example, 8 states have laws that allow for anyone to get naloxone from a pharmacist without a prescription. I will be analyzing data to see if those 8 states show less fatal overdoses than those requiring a prescription. If possible, I will show how those states change over time with the addition of that law, but I am still looking for that data. \n",
    "\n",
    "In a real world setting, the purpose of this is to highlight the communities still in most need of resources to battle this very sad epidemic. Next, it is useful to see the connection between depression and anxiety, as well as happiness scores, and how this is correlated with overdose fatalities. Lastly, the naloxone law comparisons by state aim to show whether or not more states might benefit from implementing these same laws and to draw attention to the usefulness and effectiveness of naloxone distribution as a way to mitigate opioid misuse and fight back against this epidemic. This project is interesting because despite efforts to reduce misuse, the problem has continued to worsen in recent years. This issue is deeply tied to the pharma industry and it's financial gains. The more we know about the causes of this epidemic and the proposed solutions many states are trying, the better chance we have as a nation in saving more lives in the future. A goal of this project is to promote public awareness of the issue and solutions as well. So many people, myself included, have a personal connection to this issue and wish to share with those among them. That is the reason this project would be of interest to many as well. "
   ]
  },
  {
   "cell_type": "markdown",
   "metadata": {},
   "source": [
    "\n",
    "\n",
    "---\n",
    "\n",
    "\n",
    "\n",
    "## Submitting Your Work\n",
    "\n",
    "In order to submit your work, you'll need to use the `git` command line program to **add** your homework file (this file) to your local repository, **commit** your changes to your local repository, and then **push** those changes up to github.com.  From there, I'll be able to **pull** the changes down and do my grading.  I'll provide some feedback, **commit** and **push** my comments back to you.  Next week, I'll show you how to **pull** down my comments.\n",
    "\n",
    "To run through everything one last time and submit your work:\n",
    "1. Use the `Kernel` -> `Restart Kernel and Run All Cells` menu option to run everything from top to bottom and stop here.\n",
    "2. Follow the instruction on the prompt below to either ssave and submit your work, or continue working.\n",
    "\n",
    "If anything fails along the way with this submission part of the process, let me know.  I'll help you troubleshoort."
   ]
  },
  {
   "cell_type": "markdown",
   "metadata": {},
   "source": [
    "---"
   ]
  },
  {
   "cell_type": "code",
   "execution_count": 13,
   "metadata": {
    "jupyter": {
     "source_hidden": true
    }
   },
   "outputs": [
    {
     "name": "stdin",
     "output_type": "stream",
     "text": [
      "\n",
      "Are you ready to submit your work?\n",
      "1. Click the Save icon (or do Ctrl-S / Cmd-S)\n",
      "2. Type \"yes\" or \"no\" below\n",
      "3. Press Enter\n",
      "\n",
      " yes\n"
     ]
    },
    {
     "name": "stdout",
     "output_type": "stream",
     "text": [
      "[main f886d5b] Submitting the week 11 programming assignment\n",
      " 2 files changed, 402 insertions(+), 6 deletions(-)\n",
      " create mode 100644 week11/week11_assignment_2.ipynb\n",
      "Counting objects: 5, done.\n",
      "Delta compression using up to 2 threads.\n",
      "Compressing objects: 100% (5/5), done.\n",
      "Writing objects: 100% (5/5), 5.18 KiB | 5.18 MiB/s, done.\n",
      "Total 5 (delta 2), reused 0 (delta 0)\n",
      "remote: Resolving deltas: 100% (2/2), completed with 2 local objects.\u001b[K\n",
      "To github.com:lillyeversman/hds5210-2022.git\n",
      "   1a53223..f886d5b  main -> main\n"
     ]
    }
   ],
   "source": [
    "a=input('''\n",
    "Are you ready to submit your work?\n",
    "1. Click the Save icon (or do Ctrl-S / Cmd-S)\n",
    "2. Type \"yes\" or \"no\" below\n",
    "3. Press Enter\n",
    "\n",
    "''')\n",
    "\n",
    "if a=='yes':\n",
    "    !git add week11_assignment_2.ipynb\n",
    "    !git commit -a -m \"Submitting the week 11 programming assignment\"\n",
    "    !git push\n",
    "else:\n",
    "    print('''\n",
    "    \n",
    "OK. We can wait.\n",
    "''')"
   ]
  },
  {
   "cell_type": "code",
   "execution_count": null,
   "metadata": {},
   "outputs": [],
   "source": []
  }
 ],
 "metadata": {
  "kernelspec": {
   "display_name": "Python 3",
   "language": "python",
   "name": "python3"
  },
  "language_info": {
   "codemirror_mode": {
    "name": "ipython",
    "version": 3
   },
   "file_extension": ".py",
   "mimetype": "text/x-python",
   "name": "python",
   "nbconvert_exporter": "python",
   "pygments_lexer": "ipython3",
   "version": "3.6.7"
  }
 },
 "nbformat": 4,
 "nbformat_minor": 4
}
